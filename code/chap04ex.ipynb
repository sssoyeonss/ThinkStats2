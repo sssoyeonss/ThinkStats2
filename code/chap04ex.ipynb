{
  "nbformat": 4,
  "nbformat_minor": 0,
  "metadata": {
    "kernelspec": {
      "display_name": "Python 3",
      "language": "python",
      "name": "python3"
    },
    "language_info": {
      "codemirror_mode": {
        "name": "ipython",
        "version": 3
      },
      "file_extension": ".py",
      "mimetype": "text/x-python",
      "name": "python",
      "nbconvert_exporter": "python",
      "pygments_lexer": "ipython3",
      "version": "3.6.7"
    },
    "colab": {
      "name": "chap04ex.ipynb",
      "provenance": [],
      "include_colab_link": true
    }
  },
  "cells": [
    {
      "cell_type": "markdown",
      "metadata": {
        "id": "view-in-github",
        "colab_type": "text"
      },
      "source": [
        "<a href=\"https://colab.research.google.com/github/sssoyeonss/ThinkStats2/blob/master/code/chap04ex.ipynb\" target=\"_parent\"><img src=\"https://colab.research.google.com/assets/colab-badge.svg\" alt=\"Open In Colab\"/></a>"
      ]
    },
    {
      "cell_type": "markdown",
      "metadata": {
        "id": "RFWLzOtW1oH_"
      },
      "source": [
        "# Examples and Exercises from Think Stats, 2nd Edition\n",
        "\n",
        "http://thinkstats2.com\n",
        "\n",
        "Copyright 2016 Allen B. Downey\n",
        "\n",
        "MIT License: https://opensource.org/licenses/MIT\n"
      ]
    },
    {
      "cell_type": "code",
      "metadata": {
        "id": "bn6_D_oL2GNf",
        "outputId": "b08d21ea-5063-471d-d093-1f0784e9b9c2",
        "colab": {
          "base_uri": "https://localhost:8080/"
        }
      },
      "source": [
        "!git clone https://github.com/sssoyeonss/ThinkStats2\n",
        "!pwd\n"
      ],
      "execution_count": 1,
      "outputs": [
        {
          "output_type": "stream",
          "name": "stdout",
          "text": [
            "Cloning into 'ThinkStats2'...\n",
            "remote: Enumerating objects: 2842, done.\u001b[K\n",
            "remote: Counting objects: 100% (21/21), done.\u001b[K\n",
            "remote: Compressing objects: 100% (21/21), done.\u001b[K\n",
            "remote: Total 2842 (delta 9), reused 4 (delta 0), pack-reused 2821\u001b[K\n",
            "Receiving objects: 100% (2842/2842), 172.59 MiB | 29.18 MiB/s, done.\n",
            "Resolving deltas: 100% (1618/1618), done.\n",
            "Checking out files: 100% (485/485), done.\n",
            "/content\n"
          ]
        }
      ]
    },
    {
      "cell_type": "code",
      "metadata": {
        "id": "b5he3bJ22Qhd",
        "outputId": "8cce6971-f2a7-4b3a-9e6f-a0325336c726",
        "colab": {
          "base_uri": "https://localhost:8080/"
        }
      },
      "source": [
        "%cd ThinkStats2\n",
        "%cd code"
      ],
      "execution_count": 2,
      "outputs": [
        {
          "output_type": "stream",
          "name": "stdout",
          "text": [
            "/content/ThinkStats2\n",
            "/content/ThinkStats2/code\n"
          ]
        }
      ]
    },
    {
      "cell_type": "code",
      "metadata": {
        "id": "nDOYC6YZ1oJn"
      },
      "source": [
        "from __future__ import print_function, division\n",
        "\n",
        "%matplotlib inline\n",
        "\n",
        "import numpy as np\n",
        "\n",
        "import nsfg\n",
        "import first\n",
        "import thinkstats2\n",
        "import thinkplot"
      ],
      "execution_count": 3,
      "outputs": []
    },
    {
      "cell_type": "markdown",
      "metadata": {
        "id": "WuKgiMn11oJ4"
      },
      "source": [
        "## Examples\n",
        "\n",
        "One more time, I'll load the data from the NSFG."
      ]
    },
    {
      "cell_type": "code",
      "metadata": {
        "id": "bu_ALPYa1oKA"
      },
      "source": [
        "live, firsts, others = first.MakeFrames()"
      ],
      "execution_count": 4,
      "outputs": []
    },
    {
      "cell_type": "markdown",
      "metadata": {
        "id": "jUTs3x0o1oKD"
      },
      "source": [
        "And compute the distribution of birth weight for first babies and others."
      ]
    },
    {
      "cell_type": "code",
      "metadata": {
        "id": "HF1MJVpL1oKI",
        "outputId": "1d6308a9-fc64-41b5-9f22-41bf0048afc2",
        "colab": {
          "base_uri": "https://localhost:8080/"
        }
      },
      "source": [
        "first_wgt = firsts.totalwgt_lb\n",
        "first_wgt_dropna = first_wgt.dropna()\n",
        "print('Firsts', len(first_wgt), len(first_wgt_dropna))\n",
        " \n",
        "other_wgt = others.totalwgt_lb\n",
        "other_wgt_dropna = other_wgt.dropna()\n",
        "print('Others', len(other_wgt), len(other_wgt_dropna))\n",
        "\n",
        "first_pmf = thinkstats2.Pmf(first_wgt_dropna, label='first')\n",
        "other_pmf = thinkstats2.Pmf(other_wgt_dropna, label='other')"
      ],
      "execution_count": 5,
      "outputs": [
        {
          "output_type": "stream",
          "name": "stdout",
          "text": [
            "Firsts 4413 4363\n",
            "Others 4735 4675\n"
          ]
        }
      ]
    },
    {
      "cell_type": "markdown",
      "metadata": {
        "id": "xQBFGuSZ1oKS"
      },
      "source": [
        "We can plot the PMFs on the same scale, but it is hard to see if there is a difference."
      ]
    },
    {
      "cell_type": "code",
      "metadata": {
        "id": "W68lvJbh1oKd",
        "outputId": "ecd4ec78-7a50-486a-e3f5-bc6680440083",
        "colab": {
          "base_uri": "https://localhost:8080/",
          "height": 279
        }
      },
      "source": [
        "width = 0.4 / 16\n",
        "\n",
        "# plot PMFs of birth weights for first babies and others\n",
        "thinkplot.PrePlot(2)\n",
        "thinkplot.Hist(first_pmf, align='right', width=width)\n",
        "thinkplot.Hist(other_pmf, align='left', width=width)\n",
        "thinkplot.Config(xlabel='Weight (pounds)', ylabel='PMF')"
      ],
      "execution_count": 6,
      "outputs": [
        {
          "output_type": "display_data",
          "data": {
            "image/png": "[encoded data removed]",
            "text/plain": [
              "<Figure size 432x288 with 1 Axes>"
            ]
          },
          "metadata": {
            "needs_background": "light"
          }
        }
      ]
    },
    {
      "cell_type": "markdown",
      "metadata": {
        "id": "QDHvEjL61oKm"
      },
      "source": [
        "`PercentileRank` computes the fraction of `scores` less than or equal to `your_score`."
      ]
    },
    {
      "cell_type": "code",
      "metadata": {
        "id": "nRO5-yvH1oKu"
      },
      "source": [
        "def PercentileRank(scores, your_score):\n",
        "    count = 0\n",
        "    for score in scores:\n",
        "        if score <= your_score:\n",
        "            count += 1\n",
        "\n",
        "    percentile_rank = 100.0 * count / len(scores)\n",
        "    return percentile_rank"
      ],
      "execution_count": 7,
      "outputs": []
    },
    {
      "cell_type": "markdown",
      "metadata": {
        "id": "_aNWCkga1oKz"
      },
      "source": [
        "If this is the list of scores."
      ]
    },
    {
      "cell_type": "code",
      "metadata": {
        "id": "37OSWDNi1oK1"
      },
      "source": [
        "t = [55, 66, 77, 88, 99]"
      ],
      "execution_count": 8,
      "outputs": []
    },
    {
      "cell_type": "markdown",
      "metadata": {
        "id": "P_AjvS2J1oK6"
      },
      "source": [
        "And you got the 88, your percentile rank is 80."
      ]
    },
    {
      "cell_type": "code",
      "metadata": {
        "id": "EzPTzQDf1oK9",
        "outputId": "641e8f8c-049d-4cb5-a0e3-936af06abf16",
        "colab": {
          "base_uri": "https://localhost:8080/"
        }
      },
      "source": [
        "PercentileRank(t, 88)"
      ],
      "execution_count": 9,
      "outputs": [
        {
          "output_type": "execute_result",
          "data": {
            "text/plain": [
              "80.0"
            ]
          },
          "metadata": {},
          "execution_count": 9
        }
      ]
    },
    {
      "cell_type": "markdown",
      "metadata": {
        "id": "jZVgyqA81oLA"
      },
      "source": [
        "`Percentile` takes a percentile rank and computes the corresponding percentile. "
      ]
    },
    {
      "cell_type": "code",
      "metadata": {
        "id": "1-1zFoDm1oLB"
      },
      "source": [
        "def Percentile(scores, percentile_rank):\n",
        "    scores.sort()\n",
        "    for score in scores:\n",
        "        if PercentileRank(scores, score) >= percentile_rank:\n",
        "            return score"
      ],
      "execution_count": 10,
      "outputs": []
    },
    {
      "cell_type": "markdown",
      "metadata": {
        "id": "F2B9Izfo1oLD"
      },
      "source": [
        "The median is the 50th percentile, which is 77."
      ]
    },
    {
      "cell_type": "code",
      "metadata": {
        "id": "c3hlhDa41oLE",
        "outputId": "2fbbb162-af1f-4465-a913-16cc3f0d3a56",
        "colab": {
          "base_uri": "https://localhost:8080/"
        }
      },
      "source": [
        "Percentile(t, 50)"
      ],
      "execution_count": 11,
      "outputs": [
        {
          "output_type": "execute_result",
          "data": {
            "text/plain": [
              "77"
            ]
          },
          "metadata": {},
          "execution_count": 11
        }
      ]
    },
    {
      "cell_type": "markdown",
      "metadata": {
        "id": "emJQUE5R1oLH"
      },
      "source": [
        "Here's a more efficient way to compute percentiles."
      ]
    },
    {
      "cell_type": "code",
      "metadata": {
        "id": "vi0i_o0K1oLK"
      },
      "source": [
        "def Percentile2(scores, percentile_rank):\n",
        "    scores.sort()\n",
        "    index = percentile_rank * (len(scores)-1) // 100\n",
        "    return scores[index]"
      ],
      "execution_count": 12,
      "outputs": []
    },
    {
      "cell_type": "markdown",
      "metadata": {
        "id": "Pz3Ih5iX1oLN"
      },
      "source": [
        "Let's hope we get the same answer."
      ]
    },
    {
      "cell_type": "code",
      "metadata": {
        "id": "VexrKdu31oLO",
        "outputId": "79f670d2-a413-4f60-b578-438b030f7a8a",
        "colab": {
          "base_uri": "https://localhost:8080/"
        }
      },
      "source": [
        "Percentile2(t, 50)"
      ],
      "execution_count": 13,
      "outputs": [
        {
          "output_type": "execute_result",
          "data": {
            "text/plain": [
              "77"
            ]
          },
          "metadata": {},
          "execution_count": 13
        }
      ]
    },
    {
      "cell_type": "markdown",
      "metadata": {
        "id": "AHvLeqNB1oLP"
      },
      "source": [
        "The Cumulative Distribution Function (CDF) is almost the same as `PercentileRank`.  The only difference is that the result is 0-1 instead of 0-100."
      ]
    },
    {
      "cell_type": "code",
      "metadata": {
        "id": "_bWkvl4N1oLR"
      },
      "source": [
        "def EvalCdf(sample, x):\n",
        "    count = 0.0\n",
        "    for value in sample:\n",
        "        if value <= x:\n",
        "            count += 1\n",
        "\n",
        "    prob = count / len(sample)\n",
        "    return prob"
      ],
      "execution_count": 14,
      "outputs": []
    },
    {
      "cell_type": "markdown",
      "metadata": {
        "id": "UZdjOzMi1oLT"
      },
      "source": [
        "In this list"
      ]
    },
    {
      "cell_type": "code",
      "metadata": {
        "id": "dvENG1Pw1oLV"
      },
      "source": [
        "t = [1, 2, 2, 3, 5]"
      ],
      "execution_count": 15,
      "outputs": []
    },
    {
      "cell_type": "markdown",
      "metadata": {
        "id": "kGT4Vo5P1oLW"
      },
      "source": [
        "We can evaluate the CDF for various values:"
      ]
    },
    {
      "cell_type": "code",
      "metadata": {
        "id": "5Ys6rT2H1oLX",
        "outputId": "c92a5073-aec8-4cd2-ab87-218ff42c08f8",
        "colab": {
          "base_uri": "https://localhost:8080/"
        }
      },
      "source": [
        "EvalCdf(t, 0), EvalCdf(t, 1), EvalCdf(t, 2), EvalCdf(t, 3), EvalCdf(t, 4), EvalCdf(t, 5)"
      ],
      "execution_count": 16,
      "outputs": [
        {
          "output_type": "execute_result",
          "data": {
            "text/plain": [
              "(0.0, 0.2, 0.6, 0.8, 0.8, 1.0)"
            ]
          },
          "metadata": {},
          "execution_count": 16
        }
      ]
    },
    {
      "cell_type": "markdown",
      "metadata": {
        "id": "CB-Czor31oLZ"
      },
      "source": [
        "Here's an example using real data, the distribution of pregnancy length for live births."
      ]
    },
    {
      "cell_type": "code",
      "metadata": {
        "id": "kJBUrWDd1oLb",
        "outputId": "2313aef4-2c14-4149-acba-9d64e11ea026",
        "colab": {
          "base_uri": "https://localhost:8080/",
          "height": 279
        }
      },
      "source": [
        "cdf = thinkstats2.Cdf(live.prglngth, label='prglngth')\n",
        "thinkplot.Cdf(cdf)\n",
        "thinkplot.Config(xlabel='Pregnancy length (weeks)', ylabel='CDF', loc='upper left')"
      ],
      "execution_count": 17,
      "outputs": [
        {
          "output_type": "display_data",
          "data": {
            "image/png": "[encoded data removed]",
            "text/plain": [
              "<Figure size 432x288 with 1 Axes>"
            ]
          },
          "metadata": {
            "needs_background": "light"
          }
        }
      ]
    },
    {
      "cell_type": "markdown",
      "metadata": {
        "id": "w2Nl134H1oLe"
      },
      "source": [
        "`Cdf` provides `Prob`, which evaluates the CDF; that is, it computes the fraction of values less than or equal to the given value.  For example, 94% of pregnancy lengths are less than or equal to 41."
      ]
    },
    {
      "cell_type": "code",
      "metadata": {
        "id": "osku0Y5_1oLe",
        "outputId": "d161a7e1-1913-4524-fe66-251c231276db",
        "colab": {
          "base_uri": "https://localhost:8080/"
        }
      },
      "source": [
        "cdf.Prob(41)"
      ],
      "execution_count": 18,
      "outputs": [
        {
          "output_type": "execute_result",
          "data": {
            "text/plain": [
              "0.9406427634455619"
            ]
          },
          "metadata": {},
          "execution_count": 18
        }
      ]
    },
    {
      "cell_type": "markdown",
      "metadata": {
        "collapsed": true,
        "id": "u3in0-PC1oLg"
      },
      "source": [
        "`Value` evaluates the inverse CDF; given a fraction, it computes the corresponding value.  For example, the median is the value that corresponds to 0.5."
      ]
    },
    {
      "cell_type": "code",
      "metadata": {
        "id": "mNaNjAD41oLh",
        "outputId": "16b5b0b8-f213-4fa1-938b-f5f79b38642b",
        "colab": {
          "base_uri": "https://localhost:8080/"
        }
      },
      "source": [
        "cdf.Value(0.5)"
      ],
      "execution_count": 19,
      "outputs": [
        {
          "output_type": "execute_result",
          "data": {
            "text/plain": [
              "39"
            ]
          },
          "metadata": {},
          "execution_count": 19
        }
      ]
    },
    {
      "cell_type": "markdown",
      "metadata": {
        "id": "sY_dxb0U1oLk"
      },
      "source": [
        "In general, CDFs are a good way to visualize distributions.  They are not as noisy as PMFs, and if you plot several CDFs on the same axes, any differences between them are apparent."
      ]
    },
    {
      "cell_type": "code",
      "metadata": {
        "id": "E0_NM-ZY1oLm",
        "outputId": "a0912ffc-8247-4508-e48c-d2957cea1964",
        "colab": {
          "base_uri": "https://localhost:8080/",
          "height": 279
        }
      },
      "source": [
        "first_cdf = thinkstats2.Cdf(firsts.totalwgt_lb, label='first')\n",
        "other_cdf = thinkstats2.Cdf(others.totalwgt_lb, label='other')\n",
        "\n",
        "thinkplot.PrePlot(2)\n",
        "thinkplot.Cdfs([first_cdf, other_cdf])\n",
        "thinkplot.Config(xlabel='Weight (pounds)', ylabel='CDF')"
      ],
      "execution_count": 20,
      "outputs": [
        {
          "output_type": "display_data",
          "data": {
            "image/png": "[encoded data removed]",
            "text/plain": [
              "<Figure size 432x288 with 1 Axes>"
            ]
          },
          "metadata": {
            "needs_background": "light"
          }
        }
      ]
    },
    {
      "cell_type": "markdown",
      "metadata": {
        "id": "8ptkkyRo1oLq"
      },
      "source": [
        "In this example, we can see that first babies are slightly, but consistently, lighter than others.\n",
        "\n",
        "We can use the CDF of birth weight to compute percentile-based statistics."
      ]
    },
    {
      "cell_type": "code",
      "metadata": {
        "id": "H32c8gD01oLs"
      },
      "source": [
        "weights = live.totalwgt_lb\n",
        "live_cdf = thinkstats2.Cdf(weights, label='live')"
      ],
      "execution_count": 21,
      "outputs": []
    },
    {
      "cell_type": "markdown",
      "metadata": {
        "id": "1PpVk6Nl1oLu"
      },
      "source": [
        "Again, the median is the 50th percentile."
      ]
    },
    {
      "cell_type": "code",
      "metadata": {
        "id": "r-al8gKI1oLu",
        "outputId": "7c307bf8-440d-4707-c24e-a2619d851bf6",
        "colab": {
          "base_uri": "https://localhost:8080/"
        }
      },
      "source": [
        "median = live_cdf.Percentile(50)\n",
        "median"
      ],
      "execution_count": 22,
      "outputs": [
        {
          "output_type": "execute_result",
          "data": {
            "text/plain": [
              "7.375"
            ]
          },
          "metadata": {},
          "execution_count": 22
        }
      ]
    },
    {
      "cell_type": "markdown",
      "metadata": {
        "id": "oRuq8B051oLx"
      },
      "source": [
        "The interquartile range is the interval from the 25th to 75th percentile."
      ]
    },
    {
      "cell_type": "code",
      "metadata": {
        "id": "fF6UyNrG1oLx",
        "outputId": "56888f1f-4d1f-4023-ad2f-6cfa171474a3",
        "colab": {
          "base_uri": "https://localhost:8080/"
        }
      },
      "source": [
        "iqr = (live_cdf.Percentile(25), live_cdf.Percentile(75))\n",
        "iqr"
      ],
      "execution_count": 23,
      "outputs": [
        {
          "output_type": "execute_result",
          "data": {
            "text/plain": [
              "(6.5, 8.125)"
            ]
          },
          "metadata": {},
          "execution_count": 23
        }
      ]
    },
    {
      "cell_type": "markdown",
      "metadata": {
        "id": "Ej6NbF351oLy"
      },
      "source": [
        "We can use the CDF to look up the percentile rank of a particular value.  For example, my second daughter was 10.2 pounds at birth, which is near the 99th percentile."
      ]
    },
    {
      "cell_type": "code",
      "metadata": {
        "id": "45Py78Gm1oLz",
        "outputId": "51c5ed16-5d9b-498d-9844-a6811d4c412d",
        "colab": {
          "base_uri": "https://localhost:8080/"
        }
      },
      "source": [
        "live_cdf.PercentileRank(10.2)"
      ],
      "execution_count": 24,
      "outputs": [
        {
          "output_type": "execute_result",
          "data": {
            "text/plain": [
              "98.82717415357381"
            ]
          },
          "metadata": {},
          "execution_count": 24
        }
      ]
    },
    {
      "cell_type": "markdown",
      "metadata": {
        "id": "5YmuJlI31oL0"
      },
      "source": [
        "If we draw a random sample from the observed weights and map each weigh to its percentile rank."
      ]
    },
    {
      "cell_type": "code",
      "metadata": {
        "id": "Gk3CUcSX1oL1"
      },
      "source": [
        "sample = np.random.choice(weights, 100, replace=True)\n",
        "ranks = [live_cdf.PercentileRank(x) for x in sample]"
      ],
      "execution_count": 25,
      "outputs": []
    },
    {
      "cell_type": "markdown",
      "metadata": {
        "id": "r3n1vOR01oL2"
      },
      "source": [
        "The resulting list of ranks should be approximately uniform from 0-1."
      ]
    },
    {
      "cell_type": "code",
      "metadata": {
        "id": "XXYjYOec1oL2",
        "outputId": "87250091-e3a3-4baa-84ff-6165a0eb84e3",
        "colab": {
          "base_uri": "https://localhost:8080/",
          "height": 279
        }
      },
      "source": [
        "rank_cdf = thinkstats2.Cdf(ranks)\n",
        "thinkplot.Cdf(rank_cdf)\n",
        "thinkplot.Config(xlabel='Percentile rank', ylabel='CDF')"
      ],
      "execution_count": 26,
      "outputs": [
        {
          "output_type": "display_data",
          "data": {
            "image/png": "[encoded data removed]",
            "text/plain": [
              "<Figure size 432x288 with 1 Axes>"
            ]
          },
          "metadata": {
            "needs_background": "light"
          }
        }
      ]
    },
    {
      "cell_type": "markdown",
      "metadata": {
        "id": "xkGssZt71oL4"
      },
      "source": [
        "That observation is the basis of `Cdf.Sample`, which generates a random sample from a Cdf.  Here's an example."
      ]
    },
    {
      "cell_type": "code",
      "metadata": {
        "id": "wo9Y7UED1oL5",
        "outputId": "b249a7b5-4bc8-4fc8-dd53-9fdef3654b7a",
        "colab": {
          "base_uri": "https://localhost:8080/",
          "height": 279
        }
      },
      "source": [
        "resample = live_cdf.Sample(1000)\n",
        "thinkplot.Cdf(live_cdf)\n",
        "thinkplot.Cdf(thinkstats2.Cdf(resample, label='resample'))\n",
        "thinkplot.Config(xlabel='Birth weight (pounds)', ylabel='CDF')"
      ],
      "execution_count": 27,
      "outputs": [
        {
          "output_type": "display_data",
          "data": {
            "image/png": "[encoded data removed]",
            "text/plain": [
              "<Figure size 432x288 with 1 Axes>"
            ]
          },
          "metadata": {
            "needs_background": "light"
          }
        }
      ]
    },
    {
      "cell_type": "markdown",
      "metadata": {
        "id": "3YFdXqNT1oL6"
      },
      "source": [
        "This confirms that the random sample has the same distribution as the original data."
      ]
    },
    {
      "cell_type": "markdown",
      "metadata": {
        "collapsed": true,
        "id": "12eNPmLK1oL8"
      },
      "source": [
        "## Exercises"
      ]
    },
    {
      "cell_type": "markdown",
      "metadata": {
        "collapsed": true,
        "id": "-xQpWu6O1oL-"
      },
      "source": [
        "**Exercise:** How much did you weigh at birth? If you don’t know, call your mother or someone else who knows. Using the NSFG data (all live births), compute the distribution of birth weights and use it to find your percentile rank. If you were a first baby, find your percentile rank in the distribution for first babies. Otherwise use the distribution for others. If you are in the 90th percentile or higher, call your mother back and apologize."
      ]
    },
    {
      "cell_type": "code",
      "metadata": {
        "id": "cYSV7Elm1oL_",
        "outputId": "9842d56a-e041-46bf-aebd-f3ceffe8d302",
        "colab": {
          "base_uri": "https://localhost:8080/"
        }
      },
      "source": [
        "# Solution goes here\n",
        "live_cdf.PercentileRank(7.00)"
      ],
      "execution_count": 38,
      "outputs": [
        {
          "output_type": "execute_result",
          "data": {
            "text/plain": [
              "40.185881832263775"
            ]
          },
          "metadata": {},
          "execution_count": 38
        }
      ]
    },
    {
      "cell_type": "code",
      "metadata": {
        "id": "b7qaftiH1oMB",
        "outputId": "7eea26d9-aa01-4954-aca8-ae7471c6b67d",
        "colab": {
          "base_uri": "https://localhost:8080/"
        }
      },
      "source": [
        "# Solution goes here\n",
        "other_cdf.PercentileRank(7.00)"
      ],
      "execution_count": 41,
      "outputs": [
        {
          "output_type": "execute_result",
          "data": {
            "text/plain": [
              "38.67379679144385"
            ]
          },
          "metadata": {},
          "execution_count": 41
        }
      ]
    },
    {
      "cell_type": "markdown",
      "metadata": {
        "collapsed": true,
        "id": "QKaCcqDu1oMC"
      },
      "source": [
        "**Exercise:** The numbers generated by `numpy.random.random` are supposed to be uniform between 0 and 1; that is, every value in the range should have the same probability.\n",
        "\n",
        "Generate 1000 numbers from `numpy.random.random` and plot their PMF.  What goes wrong?\n",
        "\n",
        "Now plot the CDF. Is the distribution uniform?"
      ]
    },
    {
      "cell_type": "code",
      "metadata": {
        "id": "rbadDdte1oMD"
      },
      "source": [
        "# Solution goes here\n",
        "sets = np.random.random(1000)"
      ],
      "execution_count": 45,
      "outputs": []
    },
    {
      "cell_type": "code",
      "metadata": {
        "id": "zUOVX0xq1oME",
        "outputId": "39f13def-fc40-4970-83e4-098679d11fd0",
        "colab": {
          "base_uri": "https://localhost:8080/",
          "height": 279
        }
      },
      "source": [
        "# Solution goes here\n",
        "width = 0.5/20\n",
        "sets_pmf = thinkstats2.Pmf(sets, label = 'sets')\n",
        "thinkplot.Pmf(sets_pmf)\n",
        "thinkplot.Config(xlabel='Random value', ylabel='PMF')"
      ],
      "execution_count": 51,
      "outputs": [
        {
          "output_type": "display_data",
          "data": {
            "image/png": "[encoded data removed]",
            "text/plain": [
              "<Figure size 432x288 with 1 Axes>"
            ]
          },
          "metadata": {
            "needs_background": "light"
          }
        }
      ]
    },
    {
      "cell_type": "code",
      "metadata": {
        "id": "nr2YWqr41oMF",
        "outputId": "1cfb4a10-498a-4181-8db5-143ef4578eb8",
        "colab": {
          "base_uri": "https://localhost:8080/",
          "height": 279
        }
      },
      "source": [
        "# Solution goes here\n",
        "width = 0.5/20\n",
        "sets_cdf = thinkstats2.Cdf(sets, label = 'sets')\n",
        "thinkplot.Cdf(sets_cdf)\n",
        "thinkplot.Config(xlabel='Random value', ylabel='CDF')"
      ],
      "execution_count": 52,
      "outputs": [
        {
          "output_type": "display_data",
          "data": {
            "image/png": "[encoded data removed]",
            "text/plain": [
              "<Figure size 432x288 with 1 Axes>"
            ]
          },
          "metadata": {
            "needs_background": "light"
          }
        }
      ]
    },
    {
      "cell_type": "code",
      "metadata": {
        "id": "UkqSCNuR1oMF"
      },
      "source": [
        ""
      ],
      "execution_count": null,
      "outputs": []
    }
  ]
}
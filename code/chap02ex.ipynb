{
  "nbformat": 4,
  "nbformat_minor": 0,
  "metadata": {
    "kernelspec": {
      "display_name": "Python 3",
      "language": "python",
      "name": "python3"
    },
    "language_info": {
      "codemirror_mode": {
        "name": "ipython",
        "version": 3
      },
      "file_extension": ".py",
      "mimetype": "text/x-python",
      "name": "python",
      "nbconvert_exporter": "python",
      "pygments_lexer": "ipython3",
      "version": "3.6.6"
    },
    "colab": {
      "name": "chap02ex.ipynb",
      "provenance": [],
      "include_colab_link": true
    }
  },
  "cells": [
    {
      "cell_type": "markdown",
      "metadata": {
        "id": "view-in-github",
        "colab_type": "text"
      },
      "source": [
        "<a href=\"https://colab.research.google.com/github/sssoyeonss/ThinkStats2/blob/master/code/chap02ex.ipynb\" target=\"_parent\"><img src=\"https://colab.research.google.com/assets/colab-badge.svg\" alt=\"Open In Colab\"/></a>"
      ]
    },
    {
      "cell_type": "markdown",
      "metadata": {
        "id": "zW7OGly9EWj-"
      },
      "source": [
        "# Examples and Exercises from Think Stats, 2nd Edition\n",
        "\n",
        "http://thinkstats2.com\n",
        "\n",
        "Copyright 2016 Allen B. Downey\n",
        "\n",
        "MIT License: https://opensource.org/licenses/MIT\n"
      ]
    },
    {
      "cell_type": "code",
      "metadata": {
        "id": "wASD3r71EeXK",
        "outputId": "dc3d49b6-ee70-463a-ccab-5954fe804585",
        "colab": {
          "base_uri": "https://localhost:8080/"
        }
      },
      "source": [
        "!git clone https://github.com/sssoyeonss/ThinkStats2\n"
      ],
      "execution_count": 1,
      "outputs": [
        {
          "output_type": "stream",
          "name": "stdout",
          "text": [
            "Cloning into 'ThinkStats2'...\n",
            "remote: Enumerating objects: 2830, done.\u001b[K\n",
            "remote: Counting objects: 100% (9/9), done.\u001b[K\n",
            "remote: Compressing objects: 100% (9/9), done.\u001b[K\n",
            "remote: Total 2830 (delta 1), reused 4 (delta 0), pack-reused 2821\u001b[K\n",
            "Receiving objects: 100% (2830/2830), 172.43 MiB | 27.67 MiB/s, done.\n",
            "Resolving deltas: 100% (1610/1610), done.\n",
            "Checking out files: 100% (485/485), done.\n"
          ]
        }
      ]
    },
    {
      "cell_type": "code",
      "metadata": {
        "id": "fHD9vVtiFOzt",
        "outputId": "6678a39e-4259-4fa9-daaa-0d23f41d2be6",
        "colab": {
          "base_uri": "https://localhost:8080/"
        }
      },
      "source": [
        "!pwd"
      ],
      "execution_count": 2,
      "outputs": [
        {
          "output_type": "stream",
          "name": "stdout",
          "text": [
            "/content\n"
          ]
        }
      ]
    },
    {
      "cell_type": "code",
      "metadata": {
        "id": "jNZBYLLVFUDH",
        "outputId": "ba9164a3-ebb9-4d6b-d891-d6b5a949c9ab",
        "colab": {
          "base_uri": "https://localhost:8080/"
        }
      },
      "source": [
        "%cd ThinkStats2\n",
        "%cd code"
      ],
      "execution_count": 4,
      "outputs": [
        {
          "output_type": "stream",
          "name": "stdout",
          "text": [
            "/content/ThinkStats2\n",
            "/content/ThinkStats2/code\n"
          ]
        }
      ]
    },
    {
      "cell_type": "code",
      "metadata": {
        "id": "cKH5oLmRFfzN",
        "outputId": "1b8d6913-ad21-4f3b-a646-14dcb868932e",
        "colab": {
          "base_uri": "https://localhost:8080/"
        }
      },
      "source": [
        "!python nsfg.py\n"
      ],
      "execution_count": 5,
      "outputs": [
        {
          "output_type": "stream",
          "name": "stdout",
          "text": [
            "(13593, 244)\n",
            "All tests passed.\n"
          ]
        }
      ]
    },
    {
      "cell_type": "code",
      "metadata": {
        "id": "ska7jC7fEWki"
      },
      "source": [
        "from __future__ import print_function, division\n",
        "\n",
        "%matplotlib inline\n",
        "\n",
        "import numpy as np\n",
        "\n",
        "import nsfg\n",
        "import first"
      ],
      "execution_count": 6,
      "outputs": []
    },
    {
      "cell_type": "markdown",
      "metadata": {
        "id": "MuJqf2OWEWkt"
      },
      "source": [
        "Given a list of values, there are several ways to count the frequency of each value."
      ]
    },
    {
      "cell_type": "code",
      "metadata": {
        "id": "QoQ9rFwrEWk1"
      },
      "source": [
        "t = [1, 2, 2, 3, 5]"
      ],
      "execution_count": 7,
      "outputs": []
    },
    {
      "cell_type": "markdown",
      "metadata": {
        "id": "SS_zfUDKEWk3"
      },
      "source": [
        "You can use a Python dictionary:"
      ]
    },
    {
      "cell_type": "code",
      "metadata": {
        "id": "HfxiJAKSEWk6",
        "outputId": "a45546dc-d2f5-48ce-bde6-d07ab40ac969",
        "colab": {
          "base_uri": "https://localhost:8080/"
        }
      },
      "source": [
        "hist = {}\n",
        "for x in t:\n",
        "    hist[x] = hist.get(x, 0) + 1\n",
        "    \n",
        "hist"
      ],
      "execution_count": 8,
      "outputs": [
        {
          "output_type": "execute_result",
          "data": {
            "text/plain": [
              "{1: 1, 2: 2, 3: 1, 5: 1}"
            ]
          },
          "metadata": {},
          "execution_count": 8
        }
      ]
    },
    {
      "cell_type": "markdown",
      "metadata": {
        "id": "bA6g2xW2EWlJ"
      },
      "source": [
        "You can use a `Counter` (which is a dictionary with additional methods):"
      ]
    },
    {
      "cell_type": "code",
      "metadata": {
        "id": "EW7FB3jMEWlO",
        "outputId": "f039529c-6751-4aa4-c0a6-b2bf4c1ba5a3",
        "colab": {
          "base_uri": "https://localhost:8080/"
        }
      },
      "source": [
        "from collections import Counter\n",
        "counter = Counter(t)\n",
        "counter"
      ],
      "execution_count": 9,
      "outputs": [
        {
          "output_type": "execute_result",
          "data": {
            "text/plain": [
              "Counter({1: 1, 2: 2, 3: 1, 5: 1})"
            ]
          },
          "metadata": {},
          "execution_count": 9
        }
      ]
    },
    {
      "cell_type": "markdown",
      "metadata": {
        "id": "AcXVmRaXEWlX"
      },
      "source": [
        "Or you can use the `Hist` object provided by `thinkstats2`:"
      ]
    },
    {
      "cell_type": "code",
      "metadata": {
        "id": "sfcTFH5ZEWle",
        "outputId": "da7a12ab-a9e1-47fb-9d24-312324e1c3b8",
        "colab": {
          "base_uri": "https://localhost:8080/"
        }
      },
      "source": [
        "import thinkstats2\n",
        "hist = thinkstats2.Hist([1, 2, 2, 3, 5])\n",
        "hist"
      ],
      "execution_count": 10,
      "outputs": [
        {
          "output_type": "execute_result",
          "data": {
            "text/plain": [
              "Hist({1: 1, 2: 2, 3: 1, 5: 1})"
            ]
          },
          "metadata": {},
          "execution_count": 10
        }
      ]
    },
    {
      "cell_type": "markdown",
      "metadata": {
        "id": "8dtl2Qx1EWli"
      },
      "source": [
        "`Hist` provides `Freq`, which looks up the frequency of a value."
      ]
    },
    {
      "cell_type": "code",
      "metadata": {
        "id": "cJ86lHd0EWll",
        "outputId": "007ddec9-f9cf-4259-85d0-f372499e6846",
        "colab": {
          "base_uri": "https://localhost:8080/"
        }
      },
      "source": [
        "hist.Freq(2)"
      ],
      "execution_count": 11,
      "outputs": [
        {
          "output_type": "execute_result",
          "data": {
            "text/plain": [
              "2"
            ]
          },
          "metadata": {},
          "execution_count": 11
        }
      ]
    },
    {
      "cell_type": "markdown",
      "metadata": {
        "id": "f4rZxiibEWlp"
      },
      "source": [
        "You can also use the bracket operator, which does the same thing."
      ]
    },
    {
      "cell_type": "code",
      "metadata": {
        "id": "i9R65wU_EWlr",
        "outputId": "54a0c056-5e19-4e29-e2e3-691ec4b5d8b4"
      },
      "source": [
        "hist[2]"
      ],
      "execution_count": null,
      "outputs": [
        {
          "data": {
            "text/plain": [
              "2"
            ]
          },
          "execution_count": 7,
          "metadata": {},
          "output_type": "execute_result"
        }
      ]
    },
    {
      "cell_type": "markdown",
      "metadata": {
        "id": "QbthYrjfEWlv"
      },
      "source": [
        "If the value does not appear, it has frequency 0."
      ]
    },
    {
      "cell_type": "code",
      "metadata": {
        "id": "FizCTWWcEWlz",
        "outputId": "b9cdbe9e-7f4f-407d-d670-249bdc3abaf5"
      },
      "source": [
        "hist[4]"
      ],
      "execution_count": null,
      "outputs": [
        {
          "data": {
            "text/plain": [
              "0"
            ]
          },
          "execution_count": 8,
          "metadata": {},
          "output_type": "execute_result"
        }
      ]
    },
    {
      "cell_type": "markdown",
      "metadata": {
        "id": "_wkHu4oiEWl8"
      },
      "source": [
        "The `Values` method returns the values:"
      ]
    },
    {
      "cell_type": "code",
      "metadata": {
        "id": "4LLOxrx5EWl9",
        "outputId": "341ea52c-4e06-4fd2-e612-0fd5c168c3b0",
        "colab": {
          "base_uri": "https://localhost:8080/"
        }
      },
      "source": [
        "hist.Values()"
      ],
      "execution_count": 12,
      "outputs": [
        {
          "output_type": "execute_result",
          "data": {
            "text/plain": [
              "dict_keys([1, 2, 3, 5])"
            ]
          },
          "metadata": {},
          "execution_count": 12
        }
      ]
    },
    {
      "cell_type": "markdown",
      "metadata": {
        "id": "h46zbmTrEWmF"
      },
      "source": [
        "So you can iterate the values and their frequencies like this:"
      ]
    },
    {
      "cell_type": "code",
      "metadata": {
        "id": "GlyeZMgOEWmK",
        "outputId": "a3ba33e9-f96e-49d2-ba1b-3d305310003b",
        "colab": {
          "base_uri": "https://localhost:8080/"
        }
      },
      "source": [
        "for val in sorted(hist.Values()):\n",
        "    print(val, hist[val])"
      ],
      "execution_count": 13,
      "outputs": [
        {
          "output_type": "stream",
          "name": "stdout",
          "text": [
            "1 1\n",
            "2 2\n",
            "3 1\n",
            "5 1\n"
          ]
        }
      ]
    },
    {
      "cell_type": "markdown",
      "metadata": {
        "id": "lRbuYKE9EWmR"
      },
      "source": [
        "Or you can use the `Items` method:"
      ]
    },
    {
      "cell_type": "code",
      "metadata": {
        "id": "i2GkXwYbEWmT",
        "outputId": "e0a8294e-617f-4c3b-b745-93abbdea0268",
        "colab": {
          "base_uri": "https://localhost:8080/"
        }
      },
      "source": [
        "for val, freq in hist.Items():\n",
        "     print(val, freq)"
      ],
      "execution_count": 14,
      "outputs": [
        {
          "output_type": "stream",
          "name": "stdout",
          "text": [
            "1 1\n",
            "2 2\n",
            "3 1\n",
            "5 1\n"
          ]
        }
      ]
    },
    {
      "cell_type": "markdown",
      "metadata": {
        "id": "Uw6Ms1TbEWmc"
      },
      "source": [
        "`thinkplot` is a wrapper for `matplotlib` that provides functions that work with the objects in `thinkstats2`.\n",
        "\n",
        "For example `Hist` plots the values and their frequencies as a bar graph.\n",
        "\n",
        "`Config` takes parameters that label the x and y axes, among other things."
      ]
    },
    {
      "cell_type": "code",
      "metadata": {
        "id": "a45IjkYuEWmj",
        "outputId": "bc29aecb-9993-4a07-919f-341774c15dd4",
        "colab": {
          "base_uri": "https://localhost:8080/",
          "height": 279
        }
      },
      "source": [
        "import thinkplot\n",
        "thinkplot.Hist(hist)\n",
        "thinkplot.Config(xlabel='value', ylabel='frequency')"
      ],
      "execution_count": 15,
      "outputs": [
        {
          "output_type": "display_data",
          "data": {
            "image/png": "[encoded data removed]",
            "text/plain": [
              "<Figure size 432x288 with 1 Axes>"
            ]
          },
          "metadata": {
            "needs_background": "light"
          }
        }
      ]
    },
    {
      "cell_type": "markdown",
      "metadata": {
        "id": "why-Z4FVEWmn"
      },
      "source": [
        "As an example, I'll replicate some of the figures from the book.\n",
        "\n",
        "First, I'll load the data from the pregnancy file and select the records for live births."
      ]
    },
    {
      "cell_type": "code",
      "metadata": {
        "id": "JOfDetxOEWms"
      },
      "source": [
        "preg = nsfg.ReadFemPreg()\n",
        "live = preg[preg.outcome == 1]"
      ],
      "execution_count": 16,
      "outputs": []
    },
    {
      "cell_type": "markdown",
      "metadata": {
        "id": "I8lMPG3qEWmu"
      },
      "source": [
        "Here's the histogram of birth weights in pounds.  Notice that `Hist` works with anything iterable, including a Pandas Series.  The `label` attribute appears in the legend when you plot the `Hist`. "
      ]
    },
    {
      "cell_type": "code",
      "metadata": {
        "id": "e85pKMsUEWmw",
        "outputId": "f9b81792-ce45-41aa-d9ad-84019402ecbd",
        "colab": {
          "base_uri": "https://localhost:8080/",
          "height": 279
        }
      },
      "source": [
        "hist = thinkstats2.Hist(live.birthwgt_lb, label='birthwgt_lb')\n",
        "thinkplot.Hist(hist)\n",
        "thinkplot.Config(xlabel='Birth weight (pounds)', ylabel='Count')"
      ],
      "execution_count": 17,
      "outputs": [
        {
          "output_type": "display_data",
          "data": {
            "image/png": "[encoded data removed]",
            "text/plain": [
              "<Figure size 432x288 with 1 Axes>"
            ]
          },
          "metadata": {
            "needs_background": "light"
          }
        }
      ]
    },
    {
      "cell_type": "markdown",
      "metadata": {
        "id": "0yd9CpbUEWmz"
      },
      "source": [
        "Before plotting the ages, I'll apply `floor` to round down:"
      ]
    },
    {
      "cell_type": "code",
      "metadata": {
        "id": "BqSOif9YEWm2"
      },
      "source": [
        "ages = np.floor(live.agepreg)"
      ],
      "execution_count": 18,
      "outputs": []
    },
    {
      "cell_type": "code",
      "metadata": {
        "id": "I5URJu6WEWm4",
        "outputId": "86e31f13-df44-4183-db2c-912d6057befa",
        "colab": {
          "base_uri": "https://localhost:8080/",
          "height": 279
        }
      },
      "source": [
        "hist = thinkstats2.Hist(ages, label='agepreg')\n",
        "thinkplot.Hist(hist)\n",
        "thinkplot.Config(xlabel='years', ylabel='Count')"
      ],
      "execution_count": 19,
      "outputs": [
        {
          "output_type": "display_data",
          "data": {
            "image/png": "[encoded data removed]",
            "text/plain": [
              "<Figure size 432x288 with 1 Axes>"
            ]
          },
          "metadata": {
            "needs_background": "light"
          }
        }
      ]
    },
    {
      "cell_type": "markdown",
      "metadata": {
        "id": "0dKsfFF1EWm7"
      },
      "source": [
        "As an exercise, plot the histogram of pregnancy lengths (column `prglngth`)."
      ]
    },
    {
      "cell_type": "code",
      "metadata": {
        "id": "pP_Xrv50EWnA",
        "outputId": "58d87c92-3a26-4a93-fcba-4801ae6feaa1",
        "colab": {
          "base_uri": "https://localhost:8080/",
          "height": 279
        }
      },
      "source": [
        "# Solution goes here\n",
        "hist = thinkstats2.Hist(live.prglngth, label='prglngth')\n",
        "thinkplot.Hist(hist)\n",
        "thinkplot.Config(xlabel='weeks', ylabel='Length')"
      ],
      "execution_count": 24,
      "outputs": [
        {
          "output_type": "display_data",
          "data": {
            "image/png": "[encoded data removed]",
            "text/plain": [
              "<Figure size 432x288 with 1 Axes>"
            ]
          },
          "metadata": {
            "needs_background": "light"
          }
        }
      ]
    },
    {
      "cell_type": "markdown",
      "metadata": {
        "id": "1jbY9w0ZEWnD"
      },
      "source": [
        "`Hist` provides smallest, which select the lowest values and their frequencies."
      ]
    },
    {
      "cell_type": "code",
      "metadata": {
        "id": "gYdA6fJbEWnN",
        "outputId": "f1655def-cd9e-4012-b75b-7886c1cf3482",
        "colab": {
          "base_uri": "https://localhost:8080/"
        }
      },
      "source": [
        "for weeks, freq in hist.Smallest(10):\n",
        "    print(weeks, freq)"
      ],
      "execution_count": 23,
      "outputs": [
        {
          "output_type": "stream",
          "name": "stdout",
          "text": [
            "0 1\n",
            "4 1\n",
            "9 1\n",
            "13 1\n",
            "17 2\n",
            "18 1\n",
            "19 1\n",
            "20 1\n",
            "21 2\n",
            "22 7\n"
          ]
        }
      ]
    },
    {
      "cell_type": "markdown",
      "metadata": {
        "id": "WT25TnkTEWnR"
      },
      "source": [
        "Use `Largest` to display the longest pregnancy lengths."
      ]
    },
    {
      "cell_type": "code",
      "metadata": {
        "id": "ZYdtHUJZEWnY",
        "outputId": "6b3f9bfa-e06c-49b7-c503-392cfd8dd262",
        "colab": {
          "base_uri": "https://localhost:8080/"
        }
      },
      "source": [
        "# Solution goes here\n",
        "for weeks, freq in hist.Largest(10):\n",
        "  print(weeks, freq)"
      ],
      "execution_count": 25,
      "outputs": [
        {
          "output_type": "stream",
          "name": "stdout",
          "text": [
            "50 2\n",
            "48 7\n",
            "47 1\n",
            "46 1\n",
            "45 10\n",
            "44 46\n",
            "43 148\n",
            "42 328\n",
            "41 587\n",
            "40 1116\n"
          ]
        }
      ]
    },
    {
      "cell_type": "markdown",
      "metadata": {
        "id": "aUQBcNQlEWnf"
      },
      "source": [
        "From live births, we can select first babies and others using `birthord`, then compute histograms of pregnancy length for the two groups."
      ]
    },
    {
      "cell_type": "code",
      "metadata": {
        "id": "XtencJ6IEWni"
      },
      "source": [
        "firsts = live[live.birthord == 1]\n",
        "others = live[live.birthord != 1]\n",
        "\n",
        "first_hist = thinkstats2.Hist(firsts.prglngth, label='first')\n",
        "other_hist = thinkstats2.Hist(others.prglngth, label='other')"
      ],
      "execution_count": 26,
      "outputs": []
    },
    {
      "cell_type": "markdown",
      "metadata": {
        "id": "3alCQ8bmEWnl"
      },
      "source": [
        "We can use `width` and `align` to plot two histograms side-by-side."
      ]
    },
    {
      "cell_type": "code",
      "metadata": {
        "id": "bgZsH4hqEWnq",
        "outputId": "5d6bc669-eef6-46e7-9032-8b60a734fbcc",
        "colab": {
          "base_uri": "https://localhost:8080/",
          "height": 279
        }
      },
      "source": [
        "width = 0.45\n",
        "thinkplot.PrePlot(2)\n",
        "thinkplot.Hist(first_hist, align='right', width=width)\n",
        "thinkplot.Hist(other_hist, align='left', width=width)\n",
        "thinkplot.Config(xlabel='weeks', ylabel='Count', xlim=[27, 46])"
      ],
      "execution_count": 27,
      "outputs": [
        {
          "output_type": "display_data",
          "data": {
            "image/png": "[encoded data removed]",
            "text/plain": [
              "<Figure size 432x288 with 1 Axes>"
            ]
          },
          "metadata": {
            "needs_background": "light"
          }
        }
      ]
    },
    {
      "cell_type": "markdown",
      "metadata": {
        "id": "Ei_JAXECEWnw"
      },
      "source": [
        "`Series` provides methods to compute summary statistics:"
      ]
    },
    {
      "cell_type": "code",
      "metadata": {
        "id": "gjzaKQJTEWnz"
      },
      "source": [
        "mean = live.prglngth.mean()\n",
        "var = live.prglngth.var()\n",
        "std = live.prglngth.std()"
      ],
      "execution_count": 28,
      "outputs": []
    },
    {
      "cell_type": "markdown",
      "metadata": {
        "id": "BnlDmCpTEWn1"
      },
      "source": [
        "Here are the mean and standard deviation:"
      ]
    },
    {
      "cell_type": "code",
      "metadata": {
        "id": "ciSxnNviEWn2",
        "outputId": "7de0db8f-07d9-4cb4-ee3b-bc864ffbfcd1",
        "colab": {
          "base_uri": "https://localhost:8080/"
        }
      },
      "source": [
        "mean, std"
      ],
      "execution_count": 29,
      "outputs": [
        {
          "output_type": "execute_result",
          "data": {
            "text/plain": [
              "(38.56055968517709, 2.702343810070593)"
            ]
          },
          "metadata": {},
          "execution_count": 29
        }
      ]
    },
    {
      "cell_type": "markdown",
      "metadata": {
        "id": "O2l0KsyiEWoB"
      },
      "source": [
        "As an exercise, confirm that `std` is the square root of `var`:"
      ]
    },
    {
      "cell_type": "code",
      "metadata": {
        "id": "uHiTGM54EWoD",
        "outputId": "72c95d0c-943d-4d7b-95b2-3525aab99bf0",
        "colab": {
          "base_uri": "https://localhost:8080/"
        }
      },
      "source": [
        "# Solution goes here\n",
        "import math\n",
        "std == math.sqrt(var)"
      ],
      "execution_count": 32,
      "outputs": [
        {
          "output_type": "execute_result",
          "data": {
            "text/plain": [
              "True"
            ]
          },
          "metadata": {},
          "execution_count": 32
        }
      ]
    },
    {
      "cell_type": "markdown",
      "metadata": {
        "id": "JAjeBBaMEWoH"
      },
      "source": [
        "Here's are the mean pregnancy lengths for first babies and others:"
      ]
    },
    {
      "cell_type": "code",
      "metadata": {
        "id": "qVjyELxCEWoJ",
        "outputId": "ed24da3a-ba5b-4fa6-fa9c-b827312adaef",
        "colab": {
          "base_uri": "https://localhost:8080/"
        }
      },
      "source": [
        "firsts.prglngth.mean(), others.prglngth.mean()"
      ],
      "execution_count": 33,
      "outputs": [
        {
          "output_type": "execute_result",
          "data": {
            "text/plain": [
              "(38.60095173351461, 38.52291446673706)"
            ]
          },
          "metadata": {},
          "execution_count": 33
        }
      ]
    },
    {
      "cell_type": "markdown",
      "metadata": {
        "id": "T6bFPRluEWoL"
      },
      "source": [
        "And here's the difference (in weeks):"
      ]
    },
    {
      "cell_type": "code",
      "metadata": {
        "id": "ZDOSAkpTEWoN",
        "outputId": "d62558a9-87f5-4738-b2c7-58f4da7fd443",
        "colab": {
          "base_uri": "https://localhost:8080/"
        }
      },
      "source": [
        "firsts.prglngth.mean() - others.prglngth.mean()"
      ],
      "execution_count": 34,
      "outputs": [
        {
          "output_type": "execute_result",
          "data": {
            "text/plain": [
              "0.07803726677754952"
            ]
          },
          "metadata": {},
          "execution_count": 34
        }
      ]
    },
    {
      "cell_type": "markdown",
      "metadata": {
        "id": "w0KgDB1PEWoS"
      },
      "source": [
        "This functon computes the Cohen effect size, which is the difference in means expressed in number of standard deviations:"
      ]
    },
    {
      "cell_type": "code",
      "metadata": {
        "id": "uCvAae3aEWoT"
      },
      "source": [
        "def CohenEffectSize(group1, group2):\n",
        "    \"\"\"Computes Cohen's effect size for two groups.\n",
        "    \n",
        "    group1: Series or DataFrame\n",
        "    group2: Series or DataFrame\n",
        "    \n",
        "    returns: float if the arguments are Series;\n",
        "             Series if the arguments are DataFrames\n",
        "    \"\"\"\n",
        "    diff = group1.mean() - group2.mean()\n",
        "\n",
        "    var1 = group1.var()\n",
        "    var2 = group2.var()\n",
        "    n1, n2 = len(group1), len(group2)\n",
        "\n",
        "    pooled_var = (n1 * var1 + n2 * var2) / (n1 + n2)\n",
        "    d = diff / np.sqrt(pooled_var)\n",
        "    return d"
      ],
      "execution_count": 35,
      "outputs": []
    },
    {
      "cell_type": "markdown",
      "metadata": {
        "id": "DcSYcl5KEWoU"
      },
      "source": [
        "Compute the Cohen effect size for the difference in pregnancy length for first babies and others."
      ]
    },
    {
      "cell_type": "code",
      "metadata": {
        "id": "N8wZfz8iEWoU"
      },
      "source": [
        "# Solution goes here"
      ],
      "execution_count": null,
      "outputs": []
    },
    {
      "cell_type": "markdown",
      "metadata": {
        "collapsed": true,
        "id": "HggIn4lvEWoW"
      },
      "source": [
        "## Exercises"
      ]
    },
    {
      "cell_type": "markdown",
      "metadata": {
        "id": "_N_uiuDmEWoW"
      },
      "source": [
        "Using the variable `totalwgt_lb`, investigate whether first babies are lighter or heavier than others. \n",
        "\n",
        "Compute Cohen’s effect size to quantify the difference between the groups.  How does it compare to the difference in pregnancy length?"
      ]
    },
    {
      "cell_type": "code",
      "metadata": {
        "id": "hKZrJVOKEWoZ"
      },
      "source": [
        "# Solution goes here"
      ],
      "execution_count": null,
      "outputs": []
    },
    {
      "cell_type": "code",
      "metadata": {
        "id": "dZ6hDqPgEWob"
      },
      "source": [
        "# Solution goes here"
      ],
      "execution_count": null,
      "outputs": []
    },
    {
      "cell_type": "markdown",
      "metadata": {
        "id": "ZufW4wguEWoe"
      },
      "source": [
        "For the next few exercises, we'll load the respondent file:"
      ]
    },
    {
      "cell_type": "code",
      "metadata": {
        "id": "6xLjmtijEWof"
      },
      "source": [
        "resp = nsfg.ReadFemResp()"
      ],
      "execution_count": null,
      "outputs": []
    },
    {
      "cell_type": "markdown",
      "metadata": {
        "id": "XnNCroEMEWoh"
      },
      "source": [
        "Make a histogram of <tt>totincr</tt> the total income for the respondent's family.  To interpret the codes see the [codebook](http://www.icpsr.umich.edu/nsfg6/Controller?displayPage=labelDetails&fileCode=FEM&section=R&subSec=7876&srtLabel=607543)."
      ]
    },
    {
      "cell_type": "code",
      "metadata": {
        "id": "_SEIiaKqEWoj"
      },
      "source": [
        "# Solution goes here"
      ],
      "execution_count": null,
      "outputs": []
    },
    {
      "cell_type": "markdown",
      "metadata": {
        "id": "eCRfdnL3EWol"
      },
      "source": [
        "Make a histogram of <tt>age_r</tt>, the respondent's age at the time of interview."
      ]
    },
    {
      "cell_type": "code",
      "metadata": {
        "id": "5j0EV0jNEWol"
      },
      "source": [
        "# Solution goes here"
      ],
      "execution_count": null,
      "outputs": []
    },
    {
      "cell_type": "markdown",
      "metadata": {
        "id": "QzCrtrTFEWom"
      },
      "source": [
        "Make a histogram of <tt>numfmhh</tt>, the number of people in the respondent's household."
      ]
    },
    {
      "cell_type": "code",
      "metadata": {
        "id": "9PntBQmOEWon"
      },
      "source": [
        "# Solution goes here"
      ],
      "execution_count": null,
      "outputs": []
    },
    {
      "cell_type": "markdown",
      "metadata": {
        "id": "B3ZoDuWPEWoo"
      },
      "source": [
        "Make a histogram of <tt>parity</tt>, the number of children borne by the respondent.  How would you describe this distribution?"
      ]
    },
    {
      "cell_type": "code",
      "metadata": {
        "id": "evwTDzEiEWop"
      },
      "source": [
        "# Solution goes here"
      ],
      "execution_count": null,
      "outputs": []
    },
    {
      "cell_type": "markdown",
      "metadata": {
        "id": "1Nd4fGo-EWos"
      },
      "source": [
        "Use Hist.Largest to find the largest values of <tt>parity</tt>."
      ]
    },
    {
      "cell_type": "code",
      "metadata": {
        "id": "QzGQ8eSFEWov"
      },
      "source": [
        "# Solution goes here"
      ],
      "execution_count": null,
      "outputs": []
    },
    {
      "cell_type": "markdown",
      "metadata": {
        "id": "JC8vkxLaEWow"
      },
      "source": [
        "Let's investigate whether people with higher income have higher parity.  Keep in mind that in this study, we are observing different people at different times during their lives, so this data is not the best choice for answering this question.  But for now let's take it at face value.\n",
        "\n",
        "Use <tt>totincr</tt> to select the respondents with the highest income (level 14).  Plot the histogram of <tt>parity</tt> for just the high income respondents."
      ]
    },
    {
      "cell_type": "code",
      "metadata": {
        "id": "10koUBKFEWox"
      },
      "source": [
        "# Solution goes here"
      ],
      "execution_count": null,
      "outputs": []
    },
    {
      "cell_type": "markdown",
      "metadata": {
        "id": "x3zUAECsEWoy"
      },
      "source": [
        "Find the largest parities for high income respondents."
      ]
    },
    {
      "cell_type": "code",
      "metadata": {
        "id": "JuIAdc4sEWoz"
      },
      "source": [
        "# Solution goes here"
      ],
      "execution_count": null,
      "outputs": []
    },
    {
      "cell_type": "markdown",
      "metadata": {
        "id": "BFOq-BypEWoz"
      },
      "source": [
        "Compare the mean <tt>parity</tt> for high income respondents and others."
      ]
    },
    {
      "cell_type": "code",
      "metadata": {
        "id": "Y8lDSjT8EWo0"
      },
      "source": [
        "# Solution goes here"
      ],
      "execution_count": null,
      "outputs": []
    },
    {
      "cell_type": "markdown",
      "metadata": {
        "id": "Q98i-Y5SEWo1"
      },
      "source": [
        "Compute the Cohen effect size for this difference.  How does it compare with the difference in pregnancy length for first babies and others?"
      ]
    },
    {
      "cell_type": "code",
      "metadata": {
        "id": "Bd1ftW8bEWo3"
      },
      "source": [
        "# Solution goes here"
      ],
      "execution_count": null,
      "outputs": []
    },
    {
      "cell_type": "code",
      "metadata": {
        "id": "Thes7t5JEWo5"
      },
      "source": [
        ""
      ],
      "execution_count": null,
      "outputs": []
    }
  ]
}
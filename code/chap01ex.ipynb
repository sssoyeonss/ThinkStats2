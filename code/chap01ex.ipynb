{
  "nbformat": 4,
  "nbformat_minor": 0,
  "metadata": {
    "kernelspec": {
      "display_name": "Python 3",
      "language": "python",
      "name": "python3"
    },
    "language_info": {
      "codemirror_mode": {
        "name": "ipython",
        "version": 3
      },
      "file_extension": ".py",
      "mimetype": "text/x-python",
      "name": "python",
      "nbconvert_exporter": "python",
      "pygments_lexer": "ipython3",
      "version": "3.6.6"
    },
    "colab": {
      "name": "chap01ex.ipynb",
      "provenance": []
    }
  },
  "cells": [
    {
      "cell_type": "markdown",
      "metadata": {
        "id": "JtCIOWlgv7km"
      },
      "source": [
        "# Examples and Exercises from Think Stats, 2nd Edition\n",
        "\n",
        "http://thinkstats2.com\n",
        "\n",
        "Copyright 2016 Allen B. Downey\n",
        "\n",
        "MIT License: https://opensource.org/licenses/MIT\n"
      ]
    },
    {
      "cell_type": "code",
      "metadata": {
        "id": "lgjM5IsPx9ch",
        "outputId": "79f488d7-58e3-4c8b-fefd-8afb5f9e4ac4",
        "colab": {
          "base_uri": "https://localhost:8080/"
        }
      },
      "source": [
        "!git clone https://github.com/sssoyeonss/ThinkStats2\n"
      ],
      "execution_count": 2,
      "outputs": [
        {
          "output_type": "stream",
          "name": "stdout",
          "text": [
            "Cloning into 'ThinkStats2'...\n",
            "remote: Enumerating objects: 2826, done.\u001b[K\n",
            "remote: Counting objects: 100% (5/5), done.\u001b[K\n",
            "remote: Compressing objects: 100% (5/5), done.\u001b[K\n",
            "remote: Total 2826 (delta 0), reused 4 (delta 0), pack-reused 2821\u001b[K\n",
            "Receiving objects: 100% (2826/2826), 172.42 MiB | 24.39 MiB/s, done.\n",
            "Resolving deltas: 100% (1609/1609), done.\n",
            "Checking out files: 100% (485/485), done.\n"
          ]
        }
      ]
    },
    {
      "cell_type": "code",
      "metadata": {
        "id": "7v3JX95WyKn9",
        "outputId": "5a9ae26a-f288-49ff-ebf4-bec5dcc8a298",
        "colab": {
          "base_uri": "https://localhost:8080/"
        }
      },
      "source": [
        "!pwd"
      ],
      "execution_count": 6,
      "outputs": [
        {
          "output_type": "stream",
          "name": "stdout",
          "text": [
            "/content\n"
          ]
        }
      ]
    },
    {
      "cell_type": "code",
      "metadata": {
        "id": "jbHmQg0wzLi8",
        "outputId": "fd1d972e-b849-4eda-d750-56f004be7151",
        "colab": {
          "base_uri": "https://localhost:8080/"
        }
      },
      "source": [
        "!ls"
      ],
      "execution_count": 9,
      "outputs": [
        {
          "output_type": "stream",
          "name": "stdout",
          "text": [
            "sample_data  ThinkStats2\n"
          ]
        }
      ]
    },
    {
      "cell_type": "code",
      "metadata": {
        "id": "-46V9Wb_zkox",
        "outputId": "8695f67e-9564-417c-b6e0-f6b6bf11338c",
        "colab": {
          "base_uri": "https://localhost:8080/"
        }
      },
      "source": [
        "%cd ThinkStats2"
      ],
      "execution_count": 10,
      "outputs": [
        {
          "output_type": "stream",
          "name": "stdout",
          "text": [
            "/content/ThinkStats2\n"
          ]
        }
      ]
    },
    {
      "cell_type": "code",
      "metadata": {
        "id": "FNaYn_Tszpub",
        "outputId": "bf91d434-225f-48ad-edb3-dce09a869ffb",
        "colab": {
          "base_uri": "https://localhost:8080/"
        }
      },
      "source": [
        "%cd code"
      ],
      "execution_count": 12,
      "outputs": [
        {
          "output_type": "stream",
          "name": "stdout",
          "text": [
            "/content/ThinkStats2/code\n"
          ]
        }
      ]
    },
    {
      "cell_type": "code",
      "metadata": {
        "id": "QQz8VlUNzx80",
        "outputId": "e304ffae-2fd1-4ce4-c77b-c6fba8d486d7",
        "colab": {
          "base_uri": "https://localhost:8080/"
        }
      },
      "source": [
        "!python nsfg.py"
      ],
      "execution_count": 13,
      "outputs": [
        {
          "output_type": "stream",
          "name": "stdout",
          "text": [
            "(13593, 244)\n",
            "All tests passed.\n"
          ]
        }
      ]
    },
    {
      "cell_type": "code",
      "metadata": {
        "id": "yRpbfoYMv7lK"
      },
      "source": [
        "from __future__ import print_function, division\n",
        "\n",
        "import nsfg"
      ],
      "execution_count": 14,
      "outputs": []
    },
    {
      "cell_type": "markdown",
      "metadata": {
        "id": "XRzNaZalv7lX"
      },
      "source": [
        "## Examples from Chapter 1\n",
        "\n",
        "Read NSFG data into a Pandas DataFrame."
      ]
    },
    {
      "cell_type": "code",
      "metadata": {
        "id": "mcN322K3v7ld",
        "outputId": "c07f3713-5bd8-4b99-f7f5-9d64706f9784",
        "colab": {
          "base_uri": "https://localhost:8080/",
          "height": 253
        }
      },
      "source": [
        "preg = nsfg.ReadFemPreg()\n",
        "preg.head()"
      ],
      "execution_count": 15,
      "outputs": [
        {
          "output_type": "execute_result",
          "data": {
            "text/html": [
              "<div>\n",
              "<style scoped>\n",
              "    .dataframe tbody tr th:only-of-type {\n",
              "        vertical-align: middle;\n",
              "    }\n",
              "\n",
              "    .dataframe tbody tr th {\n",
              "        vertical-align: top;\n",
              "    }\n",
              "\n",
              "    .dataframe thead th {\n",
              "        text-align: right;\n",
              "    }\n",
              "</style>\n",
              "<table border=\"1\" class=\"dataframe\">\n",
              "  <thead>\n",
              "    <tr style=\"text-align: right;\">\n",
              "      <th></th>\n",
              "      <th>caseid</th>\n",
              "      <th>pregordr</th>\n",
              "      <th>howpreg_n</th>\n",
              "      <th>howpreg_p</th>\n",
              "      <th>moscurrp</th>\n",
              "      <th>nowprgdk</th>\n",
              "      <th>pregend1</th>\n",
              "      <th>pregend2</th>\n",
              "      <th>nbrnaliv</th>\n",
              "      <th>multbrth</th>\n",
              "      <th>cmotpreg</th>\n",
              "      <th>prgoutcome</th>\n",
              "      <th>cmprgend</th>\n",
              "      <th>flgdkmo1</th>\n",
              "      <th>cmprgbeg</th>\n",
              "      <th>ageatend</th>\n",
              "      <th>hpageend</th>\n",
              "      <th>gestasun_m</th>\n",
              "      <th>gestasun_w</th>\n",
              "      <th>wksgest</th>\n",
              "      <th>mosgest</th>\n",
              "      <th>dk1gest</th>\n",
              "      <th>dk2gest</th>\n",
              "      <th>dk3gest</th>\n",
              "      <th>bpa_bdscheck1</th>\n",
              "      <th>bpa_bdscheck2</th>\n",
              "      <th>bpa_bdscheck3</th>\n",
              "      <th>babysex</th>\n",
              "      <th>birthwgt_lb</th>\n",
              "      <th>birthwgt_oz</th>\n",
              "      <th>lobthwgt</th>\n",
              "      <th>babysex2</th>\n",
              "      <th>birthwgt_lb2</th>\n",
              "      <th>birthwgt_oz2</th>\n",
              "      <th>lobthwgt2</th>\n",
              "      <th>babysex3</th>\n",
              "      <th>birthwgt_lb3</th>\n",
              "      <th>birthwgt_oz3</th>\n",
              "      <th>lobthwgt3</th>\n",
              "      <th>cmbabdob</th>\n",
              "      <th>...</th>\n",
              "      <th>datecon_i</th>\n",
              "      <th>agecon_i</th>\n",
              "      <th>fmarout5_i</th>\n",
              "      <th>pmarpreg_i</th>\n",
              "      <th>rmarout6_i</th>\n",
              "      <th>fmarcon5_i</th>\n",
              "      <th>learnprg_i</th>\n",
              "      <th>pncarewk_i</th>\n",
              "      <th>paydeliv_i</th>\n",
              "      <th>lbw1_i</th>\n",
              "      <th>bfeedwks_i</th>\n",
              "      <th>maternlv_i</th>\n",
              "      <th>oldwantr_i</th>\n",
              "      <th>oldwantp_i</th>\n",
              "      <th>wantresp_i</th>\n",
              "      <th>wantpart_i</th>\n",
              "      <th>ager_i</th>\n",
              "      <th>fmarital_i</th>\n",
              "      <th>rmarital_i</th>\n",
              "      <th>educat_i</th>\n",
              "      <th>hieduc_i</th>\n",
              "      <th>race_i</th>\n",
              "      <th>hispanic_i</th>\n",
              "      <th>hisprace_i</th>\n",
              "      <th>rcurpreg_i</th>\n",
              "      <th>pregnum_i</th>\n",
              "      <th>parity_i</th>\n",
              "      <th>insuranc_i</th>\n",
              "      <th>pubassis_i</th>\n",
              "      <th>poverty_i</th>\n",
              "      <th>laborfor_i</th>\n",
              "      <th>religion_i</th>\n",
              "      <th>metro_i</th>\n",
              "      <th>basewgt</th>\n",
              "      <th>adj_mod_basewgt</th>\n",
              "      <th>finalwgt</th>\n",
              "      <th>secu_p</th>\n",
              "      <th>sest</th>\n",
              "      <th>cmintvw</th>\n",
              "      <th>totalwgt_lb</th>\n",
              "    </tr>\n",
              "  </thead>\n",
              "  <tbody>\n",
              "    <tr>\n",
              "      <th>0</th>\n",
              "      <td>1</td>\n",
              "      <td>1</td>\n",
              "      <td>NaN</td>\n",
              "      <td>NaN</td>\n",
              "      <td>NaN</td>\n",
              "      <td>NaN</td>\n",
              "      <td>6.0</td>\n",
              "      <td>NaN</td>\n",
              "      <td>1.0</td>\n",
              "      <td>NaN</td>\n",
              "      <td>NaN</td>\n",
              "      <td>1.0</td>\n",
              "      <td>1093.0</td>\n",
              "      <td>NaN</td>\n",
              "      <td>1084.0</td>\n",
              "      <td>NaN</td>\n",
              "      <td>NaN</td>\n",
              "      <td>9.0</td>\n",
              "      <td>0.0</td>\n",
              "      <td>39.0</td>\n",
              "      <td>9.0</td>\n",
              "      <td>NaN</td>\n",
              "      <td>NaN</td>\n",
              "      <td>NaN</td>\n",
              "      <td>0.0</td>\n",
              "      <td>NaN</td>\n",
              "      <td>NaN</td>\n",
              "      <td>1.0</td>\n",
              "      <td>8.0</td>\n",
              "      <td>13.0</td>\n",
              "      <td>NaN</td>\n",
              "      <td>NaN</td>\n",
              "      <td>NaN</td>\n",
              "      <td>NaN</td>\n",
              "      <td>NaN</td>\n",
              "      <td>NaN</td>\n",
              "      <td>NaN</td>\n",
              "      <td>NaN</td>\n",
              "      <td>NaN</td>\n",
              "      <td>1093.0</td>\n",
              "      <td>...</td>\n",
              "      <td>0</td>\n",
              "      <td>0</td>\n",
              "      <td>0</td>\n",
              "      <td>0</td>\n",
              "      <td>0</td>\n",
              "      <td>0</td>\n",
              "      <td>0</td>\n",
              "      <td>0</td>\n",
              "      <td>0</td>\n",
              "      <td>0</td>\n",
              "      <td>0</td>\n",
              "      <td>0</td>\n",
              "      <td>0</td>\n",
              "      <td>0</td>\n",
              "      <td>0</td>\n",
              "      <td>0</td>\n",
              "      <td>0</td>\n",
              "      <td>0</td>\n",
              "      <td>0</td>\n",
              "      <td>0</td>\n",
              "      <td>0</td>\n",
              "      <td>0</td>\n",
              "      <td>0</td>\n",
              "      <td>0</td>\n",
              "      <td>0</td>\n",
              "      <td>0</td>\n",
              "      <td>0</td>\n",
              "      <td>0</td>\n",
              "      <td>0</td>\n",
              "      <td>0</td>\n",
              "      <td>0</td>\n",
              "      <td>0</td>\n",
              "      <td>0</td>\n",
              "      <td>3410.389399</td>\n",
              "      <td>3869.349602</td>\n",
              "      <td>6448.271112</td>\n",
              "      <td>2</td>\n",
              "      <td>9</td>\n",
              "      <td>NaN</td>\n",
              "      <td>8.8125</td>\n",
              "    </tr>\n",
              "    <tr>\n",
              "      <th>1</th>\n",
              "      <td>1</td>\n",
              "      <td>2</td>\n",
              "      <td>NaN</td>\n",
              "      <td>NaN</td>\n",
              "      <td>NaN</td>\n",
              "      <td>NaN</td>\n",
              "      <td>6.0</td>\n",
              "      <td>NaN</td>\n",
              "      <td>1.0</td>\n",
              "      <td>NaN</td>\n",
              "      <td>NaN</td>\n",
              "      <td>1.0</td>\n",
              "      <td>1166.0</td>\n",
              "      <td>NaN</td>\n",
              "      <td>1157.0</td>\n",
              "      <td>NaN</td>\n",
              "      <td>NaN</td>\n",
              "      <td>9.0</td>\n",
              "      <td>0.0</td>\n",
              "      <td>39.0</td>\n",
              "      <td>9.0</td>\n",
              "      <td>NaN</td>\n",
              "      <td>NaN</td>\n",
              "      <td>NaN</td>\n",
              "      <td>0.0</td>\n",
              "      <td>NaN</td>\n",
              "      <td>NaN</td>\n",
              "      <td>2.0</td>\n",
              "      <td>7.0</td>\n",
              "      <td>14.0</td>\n",
              "      <td>NaN</td>\n",
              "      <td>NaN</td>\n",
              "      <td>NaN</td>\n",
              "      <td>NaN</td>\n",
              "      <td>NaN</td>\n",
              "      <td>NaN</td>\n",
              "      <td>NaN</td>\n",
              "      <td>NaN</td>\n",
              "      <td>NaN</td>\n",
              "      <td>1166.0</td>\n",
              "      <td>...</td>\n",
              "      <td>0</td>\n",
              "      <td>0</td>\n",
              "      <td>0</td>\n",
              "      <td>0</td>\n",
              "      <td>0</td>\n",
              "      <td>0</td>\n",
              "      <td>0</td>\n",
              "      <td>0</td>\n",
              "      <td>0</td>\n",
              "      <td>0</td>\n",
              "      <td>0</td>\n",
              "      <td>0</td>\n",
              "      <td>0</td>\n",
              "      <td>0</td>\n",
              "      <td>0</td>\n",
              "      <td>0</td>\n",
              "      <td>0</td>\n",
              "      <td>0</td>\n",
              "      <td>0</td>\n",
              "      <td>0</td>\n",
              "      <td>0</td>\n",
              "      <td>0</td>\n",
              "      <td>0</td>\n",
              "      <td>0</td>\n",
              "      <td>0</td>\n",
              "      <td>0</td>\n",
              "      <td>0</td>\n",
              "      <td>0</td>\n",
              "      <td>0</td>\n",
              "      <td>0</td>\n",
              "      <td>0</td>\n",
              "      <td>0</td>\n",
              "      <td>0</td>\n",
              "      <td>3410.389399</td>\n",
              "      <td>3869.349602</td>\n",
              "      <td>6448.271112</td>\n",
              "      <td>2</td>\n",
              "      <td>9</td>\n",
              "      <td>NaN</td>\n",
              "      <td>7.8750</td>\n",
              "    </tr>\n",
              "    <tr>\n",
              "      <th>2</th>\n",
              "      <td>2</td>\n",
              "      <td>1</td>\n",
              "      <td>NaN</td>\n",
              "      <td>NaN</td>\n",
              "      <td>NaN</td>\n",
              "      <td>NaN</td>\n",
              "      <td>5.0</td>\n",
              "      <td>NaN</td>\n",
              "      <td>3.0</td>\n",
              "      <td>5.0</td>\n",
              "      <td>NaN</td>\n",
              "      <td>1.0</td>\n",
              "      <td>1156.0</td>\n",
              "      <td>NaN</td>\n",
              "      <td>1147.0</td>\n",
              "      <td>NaN</td>\n",
              "      <td>NaN</td>\n",
              "      <td>0.0</td>\n",
              "      <td>39.0</td>\n",
              "      <td>39.0</td>\n",
              "      <td>9.0</td>\n",
              "      <td>NaN</td>\n",
              "      <td>NaN</td>\n",
              "      <td>NaN</td>\n",
              "      <td>0.0</td>\n",
              "      <td>NaN</td>\n",
              "      <td>NaN</td>\n",
              "      <td>1.0</td>\n",
              "      <td>9.0</td>\n",
              "      <td>2.0</td>\n",
              "      <td>NaN</td>\n",
              "      <td>2.0</td>\n",
              "      <td>2.0</td>\n",
              "      <td>0.0</td>\n",
              "      <td>NaN</td>\n",
              "      <td>1.0</td>\n",
              "      <td>1.0</td>\n",
              "      <td>4.0</td>\n",
              "      <td>NaN</td>\n",
              "      <td>1156.0</td>\n",
              "      <td>...</td>\n",
              "      <td>0</td>\n",
              "      <td>0</td>\n",
              "      <td>0</td>\n",
              "      <td>0</td>\n",
              "      <td>0</td>\n",
              "      <td>0</td>\n",
              "      <td>0</td>\n",
              "      <td>0</td>\n",
              "      <td>0</td>\n",
              "      <td>0</td>\n",
              "      <td>0</td>\n",
              "      <td>0</td>\n",
              "      <td>0</td>\n",
              "      <td>0</td>\n",
              "      <td>0</td>\n",
              "      <td>0</td>\n",
              "      <td>0</td>\n",
              "      <td>0</td>\n",
              "      <td>0</td>\n",
              "      <td>0</td>\n",
              "      <td>0</td>\n",
              "      <td>0</td>\n",
              "      <td>0</td>\n",
              "      <td>0</td>\n",
              "      <td>0</td>\n",
              "      <td>0</td>\n",
              "      <td>0</td>\n",
              "      <td>0</td>\n",
              "      <td>0</td>\n",
              "      <td>0</td>\n",
              "      <td>0</td>\n",
              "      <td>0</td>\n",
              "      <td>0</td>\n",
              "      <td>7226.301740</td>\n",
              "      <td>8567.549110</td>\n",
              "      <td>12999.542264</td>\n",
              "      <td>2</td>\n",
              "      <td>12</td>\n",
              "      <td>NaN</td>\n",
              "      <td>9.1250</td>\n",
              "    </tr>\n",
              "    <tr>\n",
              "      <th>3</th>\n",
              "      <td>2</td>\n",
              "      <td>2</td>\n",
              "      <td>NaN</td>\n",
              "      <td>NaN</td>\n",
              "      <td>NaN</td>\n",
              "      <td>NaN</td>\n",
              "      <td>6.0</td>\n",
              "      <td>NaN</td>\n",
              "      <td>1.0</td>\n",
              "      <td>NaN</td>\n",
              "      <td>NaN</td>\n",
              "      <td>1.0</td>\n",
              "      <td>1198.0</td>\n",
              "      <td>NaN</td>\n",
              "      <td>1189.0</td>\n",
              "      <td>NaN</td>\n",
              "      <td>NaN</td>\n",
              "      <td>0.0</td>\n",
              "      <td>39.0</td>\n",
              "      <td>39.0</td>\n",
              "      <td>9.0</td>\n",
              "      <td>NaN</td>\n",
              "      <td>NaN</td>\n",
              "      <td>NaN</td>\n",
              "      <td>0.0</td>\n",
              "      <td>NaN</td>\n",
              "      <td>NaN</td>\n",
              "      <td>2.0</td>\n",
              "      <td>7.0</td>\n",
              "      <td>0.0</td>\n",
              "      <td>NaN</td>\n",
              "      <td>NaN</td>\n",
              "      <td>NaN</td>\n",
              "      <td>NaN</td>\n",
              "      <td>NaN</td>\n",
              "      <td>NaN</td>\n",
              "      <td>NaN</td>\n",
              "      <td>NaN</td>\n",
              "      <td>NaN</td>\n",
              "      <td>1198.0</td>\n",
              "      <td>...</td>\n",
              "      <td>0</td>\n",
              "      <td>0</td>\n",
              "      <td>0</td>\n",
              "      <td>0</td>\n",
              "      <td>0</td>\n",
              "      <td>0</td>\n",
              "      <td>0</td>\n",
              "      <td>0</td>\n",
              "      <td>0</td>\n",
              "      <td>0</td>\n",
              "      <td>0</td>\n",
              "      <td>0</td>\n",
              "      <td>0</td>\n",
              "      <td>0</td>\n",
              "      <td>0</td>\n",
              "      <td>0</td>\n",
              "      <td>0</td>\n",
              "      <td>0</td>\n",
              "      <td>0</td>\n",
              "      <td>0</td>\n",
              "      <td>0</td>\n",
              "      <td>0</td>\n",
              "      <td>0</td>\n",
              "      <td>0</td>\n",
              "      <td>0</td>\n",
              "      <td>0</td>\n",
              "      <td>0</td>\n",
              "      <td>0</td>\n",
              "      <td>0</td>\n",
              "      <td>0</td>\n",
              "      <td>0</td>\n",
              "      <td>0</td>\n",
              "      <td>0</td>\n",
              "      <td>7226.301740</td>\n",
              "      <td>8567.549110</td>\n",
              "      <td>12999.542264</td>\n",
              "      <td>2</td>\n",
              "      <td>12</td>\n",
              "      <td>NaN</td>\n",
              "      <td>7.0000</td>\n",
              "    </tr>\n",
              "    <tr>\n",
              "      <th>4</th>\n",
              "      <td>2</td>\n",
              "      <td>3</td>\n",
              "      <td>NaN</td>\n",
              "      <td>NaN</td>\n",
              "      <td>NaN</td>\n",
              "      <td>NaN</td>\n",
              "      <td>6.0</td>\n",
              "      <td>NaN</td>\n",
              "      <td>1.0</td>\n",
              "      <td>NaN</td>\n",
              "      <td>NaN</td>\n",
              "      <td>1.0</td>\n",
              "      <td>1204.0</td>\n",
              "      <td>NaN</td>\n",
              "      <td>1195.0</td>\n",
              "      <td>NaN</td>\n",
              "      <td>NaN</td>\n",
              "      <td>0.0</td>\n",
              "      <td>39.0</td>\n",
              "      <td>39.0</td>\n",
              "      <td>9.0</td>\n",
              "      <td>NaN</td>\n",
              "      <td>NaN</td>\n",
              "      <td>NaN</td>\n",
              "      <td>0.0</td>\n",
              "      <td>NaN</td>\n",
              "      <td>NaN</td>\n",
              "      <td>2.0</td>\n",
              "      <td>6.0</td>\n",
              "      <td>3.0</td>\n",
              "      <td>NaN</td>\n",
              "      <td>NaN</td>\n",
              "      <td>NaN</td>\n",
              "      <td>NaN</td>\n",
              "      <td>NaN</td>\n",
              "      <td>NaN</td>\n",
              "      <td>NaN</td>\n",
              "      <td>NaN</td>\n",
              "      <td>NaN</td>\n",
              "      <td>1204.0</td>\n",
              "      <td>...</td>\n",
              "      <td>0</td>\n",
              "      <td>0</td>\n",
              "      <td>0</td>\n",
              "      <td>0</td>\n",
              "      <td>0</td>\n",
              "      <td>0</td>\n",
              "      <td>0</td>\n",
              "      <td>0</td>\n",
              "      <td>0</td>\n",
              "      <td>0</td>\n",
              "      <td>0</td>\n",
              "      <td>0</td>\n",
              "      <td>0</td>\n",
              "      <td>0</td>\n",
              "      <td>0</td>\n",
              "      <td>0</td>\n",
              "      <td>0</td>\n",
              "      <td>0</td>\n",
              "      <td>0</td>\n",
              "      <td>0</td>\n",
              "      <td>0</td>\n",
              "      <td>0</td>\n",
              "      <td>0</td>\n",
              "      <td>0</td>\n",
              "      <td>0</td>\n",
              "      <td>0</td>\n",
              "      <td>0</td>\n",
              "      <td>0</td>\n",
              "      <td>0</td>\n",
              "      <td>0</td>\n",
              "      <td>0</td>\n",
              "      <td>0</td>\n",
              "      <td>0</td>\n",
              "      <td>7226.301740</td>\n",
              "      <td>8567.549110</td>\n",
              "      <td>12999.542264</td>\n",
              "      <td>2</td>\n",
              "      <td>12</td>\n",
              "      <td>NaN</td>\n",
              "      <td>6.1875</td>\n",
              "    </tr>\n",
              "  </tbody>\n",
              "</table>\n",
              "<p>5 rows × 244 columns</p>\n",
              "</div>"
            ],
            "text/plain": [
              "   caseid  pregordr  howpreg_n  howpreg_p  ...  secu_p  sest  cmintvw  totalwgt_lb\n",
              "0       1         1        NaN        NaN  ...       2     9      NaN       8.8125\n",
              "1       1         2        NaN        NaN  ...       2     9      NaN       7.8750\n",
              "2       2         1        NaN        NaN  ...       2    12      NaN       9.1250\n",
              "3       2         2        NaN        NaN  ...       2    12      NaN       7.0000\n",
              "4       2         3        NaN        NaN  ...       2    12      NaN       6.1875\n",
              "\n",
              "[5 rows x 244 columns]"
            ]
          },
          "metadata": {},
          "execution_count": 15
        }
      ]
    },
    {
      "cell_type": "markdown",
      "metadata": {
        "id": "SYfnxX7Nv7lp"
      },
      "source": [
        "Print the column names."
      ]
    },
    {
      "cell_type": "code",
      "metadata": {
        "id": "hBrkR2zUv7lu",
        "outputId": "568db55e-d026-41ed-c52e-792dc4bc7b06",
        "colab": {
          "base_uri": "https://localhost:8080/"
        }
      },
      "source": [
        "preg.columns"
      ],
      "execution_count": 16,
      "outputs": [
        {
          "output_type": "execute_result",
          "data": {
            "text/plain": [
              "Index(['caseid', 'pregordr', 'howpreg_n', 'howpreg_p', 'moscurrp', 'nowprgdk',\n",
              "       'pregend1', 'pregend2', 'nbrnaliv', 'multbrth',\n",
              "       ...\n",
              "       'laborfor_i', 'religion_i', 'metro_i', 'basewgt', 'adj_mod_basewgt',\n",
              "       'finalwgt', 'secu_p', 'sest', 'cmintvw', 'totalwgt_lb'],\n",
              "      dtype='object', length=244)"
            ]
          },
          "metadata": {},
          "execution_count": 16
        }
      ]
    },
    {
      "cell_type": "markdown",
      "metadata": {
        "id": "NbPdlhAjv7l1"
      },
      "source": [
        "Select a single column name."
      ]
    },
    {
      "cell_type": "code",
      "metadata": {
        "id": "ucR-rAYjv7l-",
        "outputId": "0aae8167-4050-4f17-df53-5359ab3e0b59",
        "colab": {
          "base_uri": "https://localhost:8080/",
          "height": 35
        }
      },
      "source": [
        "preg.columns[1]"
      ],
      "execution_count": 17,
      "outputs": [
        {
          "output_type": "execute_result",
          "data": {
            "application/vnd.google.colaboratory.intrinsic+json": {
              "type": "string"
            },
            "text/plain": [
              "'pregordr'"
            ]
          },
          "metadata": {},
          "execution_count": 17
        }
      ]
    },
    {
      "cell_type": "markdown",
      "metadata": {
        "id": "MgS7n0fFv7mD"
      },
      "source": [
        "Select a column and check what type it is."
      ]
    },
    {
      "cell_type": "code",
      "metadata": {
        "id": "yA1LiVDmv7mK",
        "outputId": "0e0999c1-f0f5-493a-87e6-b0e638ec075e",
        "colab": {
          "base_uri": "https://localhost:8080/"
        }
      },
      "source": [
        "pregordr = preg['pregordr']\n",
        "type(pregordr)"
      ],
      "execution_count": 18,
      "outputs": [
        {
          "output_type": "execute_result",
          "data": {
            "text/plain": [
              "pandas.core.series.Series"
            ]
          },
          "metadata": {},
          "execution_count": 18
        }
      ]
    },
    {
      "cell_type": "markdown",
      "metadata": {
        "id": "ckXIkSa6v7mP"
      },
      "source": [
        "Print a column."
      ]
    },
    {
      "cell_type": "code",
      "metadata": {
        "id": "Uw86f4z2v7mR"
      },
      "source": [
        "pregordr"
      ],
      "execution_count": null,
      "outputs": []
    },
    {
      "cell_type": "markdown",
      "metadata": {
        "id": "iWbxfb5jv7mU"
      },
      "source": [
        "Select a single element from a column."
      ]
    },
    {
      "cell_type": "code",
      "metadata": {
        "id": "yyFVmNU0v7mX",
        "outputId": "5c34d3ba-ea84-48ad-f774-c4de7a32c090",
        "colab": {
          "base_uri": "https://localhost:8080/"
        }
      },
      "source": [
        "pregordr[0]"
      ],
      "execution_count": 19,
      "outputs": [
        {
          "output_type": "execute_result",
          "data": {
            "text/plain": [
              "1"
            ]
          },
          "metadata": {},
          "execution_count": 19
        }
      ]
    },
    {
      "cell_type": "markdown",
      "metadata": {
        "id": "DgZ7cKoZv7md"
      },
      "source": [
        "Select a slice from a column."
      ]
    },
    {
      "cell_type": "code",
      "metadata": {
        "id": "UvgT_8MTv7mf",
        "outputId": "0bcb73c8-bc0a-4f1a-9eaf-a8b7cd31f14d"
      },
      "source": [
        "pregordr[2:5]"
      ],
      "execution_count": null,
      "outputs": [
        {
          "data": {
            "text/plain": [
              "2    1\n",
              "3    2\n",
              "4    3\n",
              "Name: pregordr, dtype: int64"
            ]
          },
          "execution_count": 8,
          "metadata": {},
          "output_type": "execute_result"
        }
      ]
    },
    {
      "cell_type": "markdown",
      "metadata": {
        "id": "RebyjOqqv7mk"
      },
      "source": [
        "Select a column using dot notation."
      ]
    },
    {
      "cell_type": "code",
      "metadata": {
        "id": "XAPJgUKRv7mn"
      },
      "source": [
        "pregordr = preg.pregordr"
      ],
      "execution_count": 20,
      "outputs": []
    },
    {
      "cell_type": "markdown",
      "metadata": {
        "id": "HvnVoYNuv7mr"
      },
      "source": [
        "Count the number of times each value occurs."
      ]
    },
    {
      "cell_type": "code",
      "metadata": {
        "id": "8tfvYifBv7mt",
        "outputId": "d8baed91-b04c-4b1c-c2f9-b666356268d8",
        "colab": {
          "base_uri": "https://localhost:8080/"
        }
      },
      "source": [
        "preg.outcome.value_counts().sort_index()"
      ],
      "execution_count": 21,
      "outputs": [
        {
          "output_type": "execute_result",
          "data": {
            "text/plain": [
              "1    9148\n",
              "2    1862\n",
              "3     120\n",
              "4    1921\n",
              "5     190\n",
              "6     352\n",
              "Name: outcome, dtype: int64"
            ]
          },
          "metadata": {},
          "execution_count": 21
        }
      ]
    },
    {
      "cell_type": "markdown",
      "metadata": {
        "id": "W07XTI2_v7my"
      },
      "source": [
        "Check the values of another variable."
      ]
    },
    {
      "cell_type": "code",
      "metadata": {
        "id": "SsvBljqzv7m1",
        "outputId": "3aeb49d8-b86f-45fc-dccf-61986340a6b5",
        "colab": {
          "base_uri": "https://localhost:8080/"
        }
      },
      "source": [
        "preg.birthwgt_lb.value_counts().sort_index()"
      ],
      "execution_count": 22,
      "outputs": [
        {
          "output_type": "execute_result",
          "data": {
            "text/plain": [
              "0.0        8\n",
              "1.0       40\n",
              "2.0       53\n",
              "3.0       98\n",
              "4.0      229\n",
              "5.0      697\n",
              "6.0     2223\n",
              "7.0     3049\n",
              "8.0     1889\n",
              "9.0      623\n",
              "10.0     132\n",
              "11.0      26\n",
              "12.0      10\n",
              "13.0       3\n",
              "14.0       3\n",
              "15.0       1\n",
              "Name: birthwgt_lb, dtype: int64"
            ]
          },
          "metadata": {},
          "execution_count": 22
        }
      ]
    },
    {
      "cell_type": "markdown",
      "metadata": {
        "id": "IBey-xhAv7m8"
      },
      "source": [
        "Make a dictionary that maps from each respondent's `caseid` to a list of indices into the pregnancy `DataFrame`.  Use it to select the pregnancy outcomes for a single respondent."
      ]
    },
    {
      "cell_type": "code",
      "metadata": {
        "id": "0wBIuF1Pv7nA",
        "outputId": "170d3c9a-1a2f-4b76-90d5-6a902d9ec0f6",
        "colab": {
          "base_uri": "https://localhost:8080/"
        }
      },
      "source": [
        "caseid = 1\n",
        "preg_map = nsfg.MakePregMap(preg)\n",
        "indices = preg_map[caseid]\n",
        "preg.outcome[indices].values"
      ],
      "execution_count": 24,
      "outputs": [
        {
          "output_type": "execute_result",
          "data": {
            "text/plain": [
              "array([1, 1])"
            ]
          },
          "metadata": {},
          "execution_count": 24
        }
      ]
    },
    {
      "cell_type": "markdown",
      "metadata": {
        "collapsed": true,
        "id": "AL8WDmjpv7nD"
      },
      "source": [
        "## Exercises"
      ]
    },
    {
      "cell_type": "markdown",
      "metadata": {
        "id": "WtOTp943v7nF"
      },
      "source": [
        "Select the `birthord` column, print the value counts, and compare to results published in the [codebook](http://www.icpsr.umich.edu/nsfg6/Controller?displayPage=labelDetails&fileCode=PREG&section=A&subSec=8016&srtLabel=611933)"
      ]
    },
    {
      "cell_type": "code",
      "metadata": {
        "id": "FVBQNV4tv7nK",
        "outputId": "26cc0cb4-c817-45b3-85e3-920256714690",
        "colab": {
          "base_uri": "https://localhost:8080/"
        }
      },
      "source": [
        "# Solution goes here\n",
        "preg.birthord.value_counts().sort_index()"
      ],
      "execution_count": 27,
      "outputs": [
        {
          "output_type": "execute_result",
          "data": {
            "text/plain": [
              "1.0     4413\n",
              "2.0     2874\n",
              "3.0     1234\n",
              "4.0      421\n",
              "5.0      126\n",
              "6.0       50\n",
              "7.0       20\n",
              "8.0        7\n",
              "9.0        2\n",
              "10.0       1\n",
              "Name: birthord, dtype: int64"
            ]
          },
          "metadata": {},
          "execution_count": 27
        }
      ]
    },
    {
      "cell_type": "markdown",
      "metadata": {
        "id": "pdVGgdLCv7nM"
      },
      "source": [
        "We can also use `isnull` to count the number of nans."
      ]
    },
    {
      "cell_type": "code",
      "metadata": {
        "id": "GF3nfgAsv7nO",
        "outputId": "1c52a743-67f0-4cfa-96f9-f699cff910ff",
        "colab": {
          "base_uri": "https://localhost:8080/"
        }
      },
      "source": [
        "preg.birthord.isnull().sum()"
      ],
      "execution_count": 28,
      "outputs": [
        {
          "output_type": "execute_result",
          "data": {
            "text/plain": [
              "4445"
            ]
          },
          "metadata": {},
          "execution_count": 28
        }
      ]
    },
    {
      "cell_type": "markdown",
      "metadata": {
        "id": "SN09qUUJv7nR"
      },
      "source": [
        "Select the `prglngth` column, print the value counts, and compare to results published in the [codebook](http://www.icpsr.umich.edu/nsfg6/Controller?displayPage=labelDetails&fileCode=PREG&section=A&subSec=8016&srtLabel=611931)"
      ]
    },
    {
      "cell_type": "code",
      "metadata": {
        "id": "Yztp6aQmv7nV",
        "outputId": "6c3bdc69-6a78-4b70-ff1c-287825783f56",
        "colab": {
          "base_uri": "https://localhost:8080/"
        }
      },
      "source": [
        "# Solution goes here\n",
        "preg.prglngth.value_counts()"
      ],
      "execution_count": 29,
      "outputs": [
        {
          "output_type": "execute_result",
          "data": {
            "text/plain": [
              "39    4744\n",
              "40    1120\n",
              "38     609\n",
              "9      594\n",
              "41     591\n",
              "6      543\n",
              "37     457\n",
              "13     446\n",
              "4      412\n",
              "8      409\n",
              "35     357\n",
              "36     329\n",
              "42     328\n",
              "17     253\n",
              "11     202\n",
              "30     198\n",
              "5      181\n",
              "7      175\n",
              "12     170\n",
              "3      151\n",
              "43     148\n",
              "22     147\n",
              "10     137\n",
              "32     122\n",
              "26     117\n",
              "2       78\n",
              "34      60\n",
              "33      50\n",
              "44      46\n",
              "16      44\n",
              "15      39\n",
              "28      38\n",
              "21      37\n",
              "19      34\n",
              "24      31\n",
              "31      29\n",
              "14      29\n",
              "29      23\n",
              "20      18\n",
              "18      17\n",
              "0       15\n",
              "25      15\n",
              "23      12\n",
              "45      10\n",
              "1        9\n",
              "27       8\n",
              "48       7\n",
              "50       2\n",
              "46       1\n",
              "47       1\n",
              "Name: prglngth, dtype: int64"
            ]
          },
          "metadata": {},
          "execution_count": 29
        }
      ]
    },
    {
      "cell_type": "markdown",
      "metadata": {
        "id": "EGtf-FZ3v7nX"
      },
      "source": [
        "To compute the mean of a column, you can invoke the `mean` method on a Series.  For example, here is the mean birthweight in pounds:"
      ]
    },
    {
      "cell_type": "code",
      "metadata": {
        "id": "wy-KizCGv7nZ",
        "outputId": "8411a703-2cf0-4e81-bd59-4f0f6ae64016",
        "colab": {
          "base_uri": "https://localhost:8080/"
        }
      },
      "source": [
        "preg.totalwgt_lb.mean()"
      ],
      "execution_count": 30,
      "outputs": [
        {
          "output_type": "execute_result",
          "data": {
            "text/plain": [
              "7.265628457623368"
            ]
          },
          "metadata": {},
          "execution_count": 30
        }
      ]
    },
    {
      "cell_type": "markdown",
      "metadata": {
        "id": "31CgI8AAv7nc"
      },
      "source": [
        "Create a new column named <tt>totalwgt_kg</tt> that contains birth weight in kilograms.  Compute its mean.  Remember that when you create a new column, you have to use dictionary syntax, not dot notation."
      ]
    },
    {
      "cell_type": "code",
      "metadata": {
        "id": "xHVXUnmbv7nf",
        "outputId": "7664a69c-88b1-47b1-e8de-4ed094e8ee64",
        "colab": {
          "base_uri": "https://localhost:8080/"
        }
      },
      "source": [
        "# Solution goes here\n",
        "preg['totalwgt_kg'] = preg['totalwgt_lb'] / 2.2\n",
        "preg['totalwgt_kg'].mean()"
      ],
      "execution_count": 31,
      "outputs": [
        {
          "output_type": "execute_result",
          "data": {
            "text/plain": [
              "3.302558389828807"
            ]
          },
          "metadata": {},
          "execution_count": 31
        }
      ]
    },
    {
      "cell_type": "markdown",
      "metadata": {
        "id": "30lv10u1v7nj"
      },
      "source": [
        "`nsfg.py` also provides `ReadFemResp`, which reads the female respondents file and returns a `DataFrame`:"
      ]
    },
    {
      "cell_type": "code",
      "metadata": {
        "id": "V1AQOlRVv7nn"
      },
      "source": [
        "resp = nsfg.ReadFemResp()"
      ],
      "execution_count": 32,
      "outputs": []
    },
    {
      "cell_type": "markdown",
      "metadata": {
        "id": "Hd2Syct8v7nq"
      },
      "source": [
        "`DataFrame` provides a method `head` that displays the first five rows:"
      ]
    },
    {
      "cell_type": "code",
      "metadata": {
        "id": "d0eMY9pTv7nv",
        "outputId": "7117e258-81b1-4266-8130-0280e0459b59",
        "colab": {
          "base_uri": "https://localhost:8080/",
          "height": 253
        }
      },
      "source": [
        "resp.head()"
      ],
      "execution_count": 33,
      "outputs": [
        {
          "output_type": "execute_result",
          "data": {
            "text/html": [
              "<div>\n",
              "<style scoped>\n",
              "    .dataframe tbody tr th:only-of-type {\n",
              "        vertical-align: middle;\n",
              "    }\n",
              "\n",
              "    .dataframe tbody tr th {\n",
              "        vertical-align: top;\n",
              "    }\n",
              "\n",
              "    .dataframe thead th {\n",
              "        text-align: right;\n",
              "    }\n",
              "</style>\n",
              "<table border=\"1\" class=\"dataframe\">\n",
              "  <thead>\n",
              "    <tr style=\"text-align: right;\">\n",
              "      <th></th>\n",
              "      <th>caseid</th>\n",
              "      <th>rscrinf</th>\n",
              "      <th>rdormres</th>\n",
              "      <th>rostscrn</th>\n",
              "      <th>rscreenhisp</th>\n",
              "      <th>rscreenrace</th>\n",
              "      <th>age_a</th>\n",
              "      <th>age_r</th>\n",
              "      <th>cmbirth</th>\n",
              "      <th>agescrn</th>\n",
              "      <th>marstat</th>\n",
              "      <th>fmarstat</th>\n",
              "      <th>fmarit</th>\n",
              "      <th>evrmarry</th>\n",
              "      <th>hisp</th>\n",
              "      <th>hispgrp</th>\n",
              "      <th>numrace</th>\n",
              "      <th>roscnt</th>\n",
              "      <th>hplocale</th>\n",
              "      <th>manrel</th>\n",
              "      <th>fl_rage</th>\n",
              "      <th>fl_rrace</th>\n",
              "      <th>fl_rhisp</th>\n",
              "      <th>goschol</th>\n",
              "      <th>vaca</th>\n",
              "      <th>higrade</th>\n",
              "      <th>compgrd</th>\n",
              "      <th>havedip</th>\n",
              "      <th>dipged</th>\n",
              "      <th>cmhsgrad</th>\n",
              "      <th>havedeg</th>\n",
              "      <th>degrees</th>\n",
              "      <th>wthparnw</th>\n",
              "      <th>onown</th>\n",
              "      <th>intact</th>\n",
              "      <th>parmarr</th>\n",
              "      <th>lvsit14f</th>\n",
              "      <th>lvsit14m</th>\n",
              "      <th>womrasdu</th>\n",
              "      <th>momdegre</th>\n",
              "      <th>...</th>\n",
              "      <th>fibroids</th>\n",
              "      <th>pidtreat</th>\n",
              "      <th>evhivtst</th>\n",
              "      <th>anyprghp_i</th>\n",
              "      <th>anymschp_i</th>\n",
              "      <th>infever_i</th>\n",
              "      <th>ovulate_i</th>\n",
              "      <th>tubes_i</th>\n",
              "      <th>infertr_i</th>\n",
              "      <th>inferth_i</th>\n",
              "      <th>advice_i</th>\n",
              "      <th>insem_i</th>\n",
              "      <th>invitro_i</th>\n",
              "      <th>endomet_i</th>\n",
              "      <th>fibroids_i</th>\n",
              "      <th>pidtreat_i</th>\n",
              "      <th>evhivtst_i</th>\n",
              "      <th>insuranc</th>\n",
              "      <th>metro</th>\n",
              "      <th>religion</th>\n",
              "      <th>laborfor</th>\n",
              "      <th>insuranc_i</th>\n",
              "      <th>metro_i</th>\n",
              "      <th>religion_i</th>\n",
              "      <th>laborfor_i</th>\n",
              "      <th>poverty</th>\n",
              "      <th>totincr</th>\n",
              "      <th>pubassis</th>\n",
              "      <th>poverty_i</th>\n",
              "      <th>totincr_i</th>\n",
              "      <th>pubassis_i</th>\n",
              "      <th>basewgt</th>\n",
              "      <th>adj_mod_basewgt</th>\n",
              "      <th>finalwgt</th>\n",
              "      <th>secu_r</th>\n",
              "      <th>sest</th>\n",
              "      <th>cmintvw</th>\n",
              "      <th>cmlstyr</th>\n",
              "      <th>screentime</th>\n",
              "      <th>intvlngth</th>\n",
              "    </tr>\n",
              "  </thead>\n",
              "  <tbody>\n",
              "    <tr>\n",
              "      <th>0</th>\n",
              "      <td>2298</td>\n",
              "      <td>1</td>\n",
              "      <td>5</td>\n",
              "      <td>5</td>\n",
              "      <td>1</td>\n",
              "      <td>5.0</td>\n",
              "      <td>27</td>\n",
              "      <td>27</td>\n",
              "      <td>902</td>\n",
              "      <td>27</td>\n",
              "      <td>2</td>\n",
              "      <td>6.0</td>\n",
              "      <td>5</td>\n",
              "      <td>0</td>\n",
              "      <td>1</td>\n",
              "      <td>1.0</td>\n",
              "      <td>1</td>\n",
              "      <td>5</td>\n",
              "      <td>1.0</td>\n",
              "      <td>2.0</td>\n",
              "      <td>0</td>\n",
              "      <td>0</td>\n",
              "      <td>0</td>\n",
              "      <td>5</td>\n",
              "      <td>NaN</td>\n",
              "      <td>10</td>\n",
              "      <td>1.0</td>\n",
              "      <td>5.0</td>\n",
              "      <td>NaN</td>\n",
              "      <td>NaN</td>\n",
              "      <td>NaN</td>\n",
              "      <td>NaN</td>\n",
              "      <td>2</td>\n",
              "      <td>5.0</td>\n",
              "      <td>1.0</td>\n",
              "      <td>1</td>\n",
              "      <td>NaN</td>\n",
              "      <td>NaN</td>\n",
              "      <td>NaN</td>\n",
              "      <td>1.0</td>\n",
              "      <td>...</td>\n",
              "      <td>NaN</td>\n",
              "      <td>2</td>\n",
              "      <td>0</td>\n",
              "      <td>0</td>\n",
              "      <td>0</td>\n",
              "      <td>0</td>\n",
              "      <td>0</td>\n",
              "      <td>0</td>\n",
              "      <td>0</td>\n",
              "      <td>0</td>\n",
              "      <td>0</td>\n",
              "      <td>0</td>\n",
              "      <td>0</td>\n",
              "      <td>0</td>\n",
              "      <td>0</td>\n",
              "      <td>0</td>\n",
              "      <td>0</td>\n",
              "      <td>1</td>\n",
              "      <td>1</td>\n",
              "      <td>2</td>\n",
              "      <td>7</td>\n",
              "      <td>0</td>\n",
              "      <td>0</td>\n",
              "      <td>0</td>\n",
              "      <td>0</td>\n",
              "      <td>156</td>\n",
              "      <td>9</td>\n",
              "      <td>2</td>\n",
              "      <td>0</td>\n",
              "      <td>0</td>\n",
              "      <td>0</td>\n",
              "      <td>3247.916977</td>\n",
              "      <td>5123.759559</td>\n",
              "      <td>5556.717241</td>\n",
              "      <td>2</td>\n",
              "      <td>18</td>\n",
              "      <td>1234</td>\n",
              "      <td>1222</td>\n",
              "      <td>18:26:36</td>\n",
              "      <td>110.492667</td>\n",
              "    </tr>\n",
              "    <tr>\n",
              "      <th>1</th>\n",
              "      <td>5012</td>\n",
              "      <td>1</td>\n",
              "      <td>5</td>\n",
              "      <td>1</td>\n",
              "      <td>5</td>\n",
              "      <td>5.0</td>\n",
              "      <td>42</td>\n",
              "      <td>42</td>\n",
              "      <td>718</td>\n",
              "      <td>42</td>\n",
              "      <td>1</td>\n",
              "      <td>NaN</td>\n",
              "      <td>1</td>\n",
              "      <td>1</td>\n",
              "      <td>5</td>\n",
              "      <td>NaN</td>\n",
              "      <td>1</td>\n",
              "      <td>2</td>\n",
              "      <td>1.0</td>\n",
              "      <td>1.0</td>\n",
              "      <td>0</td>\n",
              "      <td>0</td>\n",
              "      <td>0</td>\n",
              "      <td>5</td>\n",
              "      <td>NaN</td>\n",
              "      <td>14</td>\n",
              "      <td>5.0</td>\n",
              "      <td>1.0</td>\n",
              "      <td>2.0</td>\n",
              "      <td>NaN</td>\n",
              "      <td>5.0</td>\n",
              "      <td>NaN</td>\n",
              "      <td>2</td>\n",
              "      <td>5.0</td>\n",
              "      <td>1.0</td>\n",
              "      <td>1</td>\n",
              "      <td>NaN</td>\n",
              "      <td>NaN</td>\n",
              "      <td>NaN</td>\n",
              "      <td>1.0</td>\n",
              "      <td>...</td>\n",
              "      <td>NaN</td>\n",
              "      <td>2</td>\n",
              "      <td>2</td>\n",
              "      <td>0</td>\n",
              "      <td>0</td>\n",
              "      <td>0</td>\n",
              "      <td>0</td>\n",
              "      <td>0</td>\n",
              "      <td>0</td>\n",
              "      <td>0</td>\n",
              "      <td>0</td>\n",
              "      <td>0</td>\n",
              "      <td>0</td>\n",
              "      <td>0</td>\n",
              "      <td>0</td>\n",
              "      <td>0</td>\n",
              "      <td>0</td>\n",
              "      <td>4</td>\n",
              "      <td>1</td>\n",
              "      <td>1</td>\n",
              "      <td>1</td>\n",
              "      <td>0</td>\n",
              "      <td>0</td>\n",
              "      <td>0</td>\n",
              "      <td>0</td>\n",
              "      <td>334</td>\n",
              "      <td>10</td>\n",
              "      <td>2</td>\n",
              "      <td>0</td>\n",
              "      <td>0</td>\n",
              "      <td>0</td>\n",
              "      <td>2335.279149</td>\n",
              "      <td>2846.799490</td>\n",
              "      <td>4744.191350</td>\n",
              "      <td>2</td>\n",
              "      <td>18</td>\n",
              "      <td>1233</td>\n",
              "      <td>1221</td>\n",
              "      <td>16:30:59</td>\n",
              "      <td>64.294000</td>\n",
              "    </tr>\n",
              "    <tr>\n",
              "      <th>2</th>\n",
              "      <td>11586</td>\n",
              "      <td>1</td>\n",
              "      <td>5</td>\n",
              "      <td>1</td>\n",
              "      <td>5</td>\n",
              "      <td>5.0</td>\n",
              "      <td>43</td>\n",
              "      <td>43</td>\n",
              "      <td>708</td>\n",
              "      <td>43</td>\n",
              "      <td>4</td>\n",
              "      <td>NaN</td>\n",
              "      <td>3</td>\n",
              "      <td>1</td>\n",
              "      <td>5</td>\n",
              "      <td>NaN</td>\n",
              "      <td>1</td>\n",
              "      <td>1</td>\n",
              "      <td>NaN</td>\n",
              "      <td>NaN</td>\n",
              "      <td>0</td>\n",
              "      <td>0</td>\n",
              "      <td>0</td>\n",
              "      <td>5</td>\n",
              "      <td>NaN</td>\n",
              "      <td>12</td>\n",
              "      <td>1.0</td>\n",
              "      <td>1.0</td>\n",
              "      <td>1.0</td>\n",
              "      <td>932.0</td>\n",
              "      <td>NaN</td>\n",
              "      <td>NaN</td>\n",
              "      <td>2</td>\n",
              "      <td>5.0</td>\n",
              "      <td>1.0</td>\n",
              "      <td>1</td>\n",
              "      <td>NaN</td>\n",
              "      <td>NaN</td>\n",
              "      <td>NaN</td>\n",
              "      <td>1.0</td>\n",
              "      <td>...</td>\n",
              "      <td>NaN</td>\n",
              "      <td>2</td>\n",
              "      <td>2</td>\n",
              "      <td>0</td>\n",
              "      <td>0</td>\n",
              "      <td>0</td>\n",
              "      <td>0</td>\n",
              "      <td>0</td>\n",
              "      <td>0</td>\n",
              "      <td>0</td>\n",
              "      <td>0</td>\n",
              "      <td>0</td>\n",
              "      <td>0</td>\n",
              "      <td>0</td>\n",
              "      <td>0</td>\n",
              "      <td>0</td>\n",
              "      <td>0</td>\n",
              "      <td>4</td>\n",
              "      <td>1</td>\n",
              "      <td>1</td>\n",
              "      <td>9</td>\n",
              "      <td>0</td>\n",
              "      <td>0</td>\n",
              "      <td>0</td>\n",
              "      <td>0</td>\n",
              "      <td>156</td>\n",
              "      <td>5</td>\n",
              "      <td>2</td>\n",
              "      <td>0</td>\n",
              "      <td>0</td>\n",
              "      <td>0</td>\n",
              "      <td>2335.279149</td>\n",
              "      <td>2846.799490</td>\n",
              "      <td>4744.191350</td>\n",
              "      <td>2</td>\n",
              "      <td>18</td>\n",
              "      <td>1234</td>\n",
              "      <td>1222</td>\n",
              "      <td>18:19:09</td>\n",
              "      <td>75.149167</td>\n",
              "    </tr>\n",
              "    <tr>\n",
              "      <th>3</th>\n",
              "      <td>6794</td>\n",
              "      <td>5</td>\n",
              "      <td>5</td>\n",
              "      <td>4</td>\n",
              "      <td>1</td>\n",
              "      <td>5.0</td>\n",
              "      <td>15</td>\n",
              "      <td>15</td>\n",
              "      <td>1042</td>\n",
              "      <td>15</td>\n",
              "      <td>6</td>\n",
              "      <td>NaN</td>\n",
              "      <td>5</td>\n",
              "      <td>0</td>\n",
              "      <td>1</td>\n",
              "      <td>2.0</td>\n",
              "      <td>1</td>\n",
              "      <td>4</td>\n",
              "      <td>NaN</td>\n",
              "      <td>NaN</td>\n",
              "      <td>0</td>\n",
              "      <td>0</td>\n",
              "      <td>0</td>\n",
              "      <td>1</td>\n",
              "      <td>5.0</td>\n",
              "      <td>10</td>\n",
              "      <td>5.0</td>\n",
              "      <td>NaN</td>\n",
              "      <td>NaN</td>\n",
              "      <td>NaN</td>\n",
              "      <td>NaN</td>\n",
              "      <td>NaN</td>\n",
              "      <td>1</td>\n",
              "      <td>5.0</td>\n",
              "      <td>5.0</td>\n",
              "      <td>1</td>\n",
              "      <td>1.0</td>\n",
              "      <td>1.0</td>\n",
              "      <td>1.0</td>\n",
              "      <td>2.0</td>\n",
              "      <td>...</td>\n",
              "      <td>NaN</td>\n",
              "      <td>2</td>\n",
              "      <td>0</td>\n",
              "      <td>0</td>\n",
              "      <td>0</td>\n",
              "      <td>0</td>\n",
              "      <td>0</td>\n",
              "      <td>0</td>\n",
              "      <td>0</td>\n",
              "      <td>0</td>\n",
              "      <td>0</td>\n",
              "      <td>0</td>\n",
              "      <td>0</td>\n",
              "      <td>0</td>\n",
              "      <td>0</td>\n",
              "      <td>0</td>\n",
              "      <td>0</td>\n",
              "      <td>2</td>\n",
              "      <td>1</td>\n",
              "      <td>1</td>\n",
              "      <td>6</td>\n",
              "      <td>0</td>\n",
              "      <td>0</td>\n",
              "      <td>0</td>\n",
              "      <td>0</td>\n",
              "      <td>383</td>\n",
              "      <td>13</td>\n",
              "      <td>2</td>\n",
              "      <td>0</td>\n",
              "      <td>0</td>\n",
              "      <td>0</td>\n",
              "      <td>3783.152221</td>\n",
              "      <td>5071.464231</td>\n",
              "      <td>5923.977368</td>\n",
              "      <td>2</td>\n",
              "      <td>18</td>\n",
              "      <td>1234</td>\n",
              "      <td>1222</td>\n",
              "      <td>15:54:43</td>\n",
              "      <td>28.642833</td>\n",
              "    </tr>\n",
              "    <tr>\n",
              "      <th>4</th>\n",
              "      <td>616</td>\n",
              "      <td>1</td>\n",
              "      <td>5</td>\n",
              "      <td>4</td>\n",
              "      <td>1</td>\n",
              "      <td>5.0</td>\n",
              "      <td>20</td>\n",
              "      <td>20</td>\n",
              "      <td>991</td>\n",
              "      <td>20</td>\n",
              "      <td>6</td>\n",
              "      <td>NaN</td>\n",
              "      <td>5</td>\n",
              "      <td>0</td>\n",
              "      <td>1</td>\n",
              "      <td>1.0</td>\n",
              "      <td>1</td>\n",
              "      <td>4</td>\n",
              "      <td>NaN</td>\n",
              "      <td>NaN</td>\n",
              "      <td>0</td>\n",
              "      <td>0</td>\n",
              "      <td>0</td>\n",
              "      <td>1</td>\n",
              "      <td>5.0</td>\n",
              "      <td>11</td>\n",
              "      <td>5.0</td>\n",
              "      <td>NaN</td>\n",
              "      <td>NaN</td>\n",
              "      <td>NaN</td>\n",
              "      <td>NaN</td>\n",
              "      <td>NaN</td>\n",
              "      <td>2</td>\n",
              "      <td>1.0</td>\n",
              "      <td>1.0</td>\n",
              "      <td>1</td>\n",
              "      <td>NaN</td>\n",
              "      <td>NaN</td>\n",
              "      <td>NaN</td>\n",
              "      <td>2.0</td>\n",
              "      <td>...</td>\n",
              "      <td>NaN</td>\n",
              "      <td>1</td>\n",
              "      <td>1</td>\n",
              "      <td>0</td>\n",
              "      <td>0</td>\n",
              "      <td>0</td>\n",
              "      <td>0</td>\n",
              "      <td>0</td>\n",
              "      <td>0</td>\n",
              "      <td>0</td>\n",
              "      <td>0</td>\n",
              "      <td>0</td>\n",
              "      <td>0</td>\n",
              "      <td>0</td>\n",
              "      <td>0</td>\n",
              "      <td>0</td>\n",
              "      <td>0</td>\n",
              "      <td>2</td>\n",
              "      <td>1</td>\n",
              "      <td>3</td>\n",
              "      <td>6</td>\n",
              "      <td>0</td>\n",
              "      <td>0</td>\n",
              "      <td>0</td>\n",
              "      <td>0</td>\n",
              "      <td>99</td>\n",
              "      <td>6</td>\n",
              "      <td>2</td>\n",
              "      <td>0</td>\n",
              "      <td>0</td>\n",
              "      <td>0</td>\n",
              "      <td>5341.329968</td>\n",
              "      <td>6437.335772</td>\n",
              "      <td>7229.128072</td>\n",
              "      <td>2</td>\n",
              "      <td>18</td>\n",
              "      <td>1233</td>\n",
              "      <td>1221</td>\n",
              "      <td>14:19:44</td>\n",
              "      <td>69.502667</td>\n",
              "    </tr>\n",
              "  </tbody>\n",
              "</table>\n",
              "<p>5 rows × 3087 columns</p>\n",
              "</div>"
            ],
            "text/plain": [
              "   caseid  rscrinf  rdormres  ...  cmlstyr  screentime   intvlngth\n",
              "0    2298        1         5  ...     1222    18:26:36  110.492667\n",
              "1    5012        1         5  ...     1221    16:30:59   64.294000\n",
              "2   11586        1         5  ...     1222    18:19:09   75.149167\n",
              "3    6794        5         5  ...     1222    15:54:43   28.642833\n",
              "4     616        1         5  ...     1221    14:19:44   69.502667\n",
              "\n",
              "[5 rows x 3087 columns]"
            ]
          },
          "metadata": {},
          "execution_count": 33
        }
      ]
    },
    {
      "cell_type": "markdown",
      "metadata": {
        "id": "hID49V7zv7ny"
      },
      "source": [
        "Select the `age_r` column from `resp` and print the value counts.  How old are the youngest and oldest respondents?"
      ]
    },
    {
      "cell_type": "code",
      "metadata": {
        "id": "kfx4zHUMv7n0",
        "outputId": "bb79cc51-fa97-4298-f7e6-a5dc71be4420",
        "colab": {
          "base_uri": "https://localhost:8080/"
        }
      },
      "source": [
        "# Solution goes here\n",
        "resp.age_r.value_counts().sort_index()"
      ],
      "execution_count": 34,
      "outputs": [
        {
          "output_type": "execute_result",
          "data": {
            "text/plain": [
              "15    217\n",
              "16    223\n",
              "17    234\n",
              "18    235\n",
              "19    241\n",
              "20    258\n",
              "21    267\n",
              "22    287\n",
              "23    282\n",
              "24    269\n",
              "25    267\n",
              "26    260\n",
              "27    255\n",
              "28    252\n",
              "29    262\n",
              "30    292\n",
              "31    278\n",
              "32    273\n",
              "33    257\n",
              "34    255\n",
              "35    262\n",
              "36    266\n",
              "37    271\n",
              "38    256\n",
              "39    215\n",
              "40    256\n",
              "41    250\n",
              "42    215\n",
              "43    253\n",
              "44    235\n",
              "Name: age_r, dtype: int64"
            ]
          },
          "metadata": {},
          "execution_count": 34
        }
      ]
    },
    {
      "cell_type": "markdown",
      "metadata": {
        "id": "vk9g8Tjiv7n2"
      },
      "source": [
        "We can use the `caseid` to match up rows from `resp` and `preg`.  For example, we can select the row from `resp` for `caseid` 2298 like this:"
      ]
    },
    {
      "cell_type": "code",
      "metadata": {
        "id": "EFM27Hiav7n-",
        "outputId": "e69a0534-8a6b-43e9-e2d8-862a49e04fba",
        "colab": {
          "base_uri": "https://localhost:8080/",
          "height": 129
        }
      },
      "source": [
        "resp[resp.caseid==2298]"
      ],
      "execution_count": 35,
      "outputs": [
        {
          "output_type": "execute_result",
          "data": {
            "text/html": [
              "<div>\n",
              "<style scoped>\n",
              "    .dataframe tbody tr th:only-of-type {\n",
              "        vertical-align: middle;\n",
              "    }\n",
              "\n",
              "    .dataframe tbody tr th {\n",
              "        vertical-align: top;\n",
              "    }\n",
              "\n",
              "    .dataframe thead th {\n",
              "        text-align: right;\n",
              "    }\n",
              "</style>\n",
              "<table border=\"1\" class=\"dataframe\">\n",
              "  <thead>\n",
              "    <tr style=\"text-align: right;\">\n",
              "      <th></th>\n",
              "      <th>caseid</th>\n",
              "      <th>rscrinf</th>\n",
              "      <th>rdormres</th>\n",
              "      <th>rostscrn</th>\n",
              "      <th>rscreenhisp</th>\n",
              "      <th>rscreenrace</th>\n",
              "      <th>age_a</th>\n",
              "      <th>age_r</th>\n",
              "      <th>cmbirth</th>\n",
              "      <th>agescrn</th>\n",
              "      <th>marstat</th>\n",
              "      <th>fmarstat</th>\n",
              "      <th>fmarit</th>\n",
              "      <th>evrmarry</th>\n",
              "      <th>hisp</th>\n",
              "      <th>hispgrp</th>\n",
              "      <th>numrace</th>\n",
              "      <th>roscnt</th>\n",
              "      <th>hplocale</th>\n",
              "      <th>manrel</th>\n",
              "      <th>fl_rage</th>\n",
              "      <th>fl_rrace</th>\n",
              "      <th>fl_rhisp</th>\n",
              "      <th>goschol</th>\n",
              "      <th>vaca</th>\n",
              "      <th>higrade</th>\n",
              "      <th>compgrd</th>\n",
              "      <th>havedip</th>\n",
              "      <th>dipged</th>\n",
              "      <th>cmhsgrad</th>\n",
              "      <th>havedeg</th>\n",
              "      <th>degrees</th>\n",
              "      <th>wthparnw</th>\n",
              "      <th>onown</th>\n",
              "      <th>intact</th>\n",
              "      <th>parmarr</th>\n",
              "      <th>lvsit14f</th>\n",
              "      <th>lvsit14m</th>\n",
              "      <th>womrasdu</th>\n",
              "      <th>momdegre</th>\n",
              "      <th>...</th>\n",
              "      <th>fibroids</th>\n",
              "      <th>pidtreat</th>\n",
              "      <th>evhivtst</th>\n",
              "      <th>anyprghp_i</th>\n",
              "      <th>anymschp_i</th>\n",
              "      <th>infever_i</th>\n",
              "      <th>ovulate_i</th>\n",
              "      <th>tubes_i</th>\n",
              "      <th>infertr_i</th>\n",
              "      <th>inferth_i</th>\n",
              "      <th>advice_i</th>\n",
              "      <th>insem_i</th>\n",
              "      <th>invitro_i</th>\n",
              "      <th>endomet_i</th>\n",
              "      <th>fibroids_i</th>\n",
              "      <th>pidtreat_i</th>\n",
              "      <th>evhivtst_i</th>\n",
              "      <th>insuranc</th>\n",
              "      <th>metro</th>\n",
              "      <th>religion</th>\n",
              "      <th>laborfor</th>\n",
              "      <th>insuranc_i</th>\n",
              "      <th>metro_i</th>\n",
              "      <th>religion_i</th>\n",
              "      <th>laborfor_i</th>\n",
              "      <th>poverty</th>\n",
              "      <th>totincr</th>\n",
              "      <th>pubassis</th>\n",
              "      <th>poverty_i</th>\n",
              "      <th>totincr_i</th>\n",
              "      <th>pubassis_i</th>\n",
              "      <th>basewgt</th>\n",
              "      <th>adj_mod_basewgt</th>\n",
              "      <th>finalwgt</th>\n",
              "      <th>secu_r</th>\n",
              "      <th>sest</th>\n",
              "      <th>cmintvw</th>\n",
              "      <th>cmlstyr</th>\n",
              "      <th>screentime</th>\n",
              "      <th>intvlngth</th>\n",
              "    </tr>\n",
              "  </thead>\n",
              "  <tbody>\n",
              "    <tr>\n",
              "      <th>0</th>\n",
              "      <td>2298</td>\n",
              "      <td>1</td>\n",
              "      <td>5</td>\n",
              "      <td>5</td>\n",
              "      <td>1</td>\n",
              "      <td>5.0</td>\n",
              "      <td>27</td>\n",
              "      <td>27</td>\n",
              "      <td>902</td>\n",
              "      <td>27</td>\n",
              "      <td>2</td>\n",
              "      <td>6.0</td>\n",
              "      <td>5</td>\n",
              "      <td>0</td>\n",
              "      <td>1</td>\n",
              "      <td>1.0</td>\n",
              "      <td>1</td>\n",
              "      <td>5</td>\n",
              "      <td>1.0</td>\n",
              "      <td>2.0</td>\n",
              "      <td>0</td>\n",
              "      <td>0</td>\n",
              "      <td>0</td>\n",
              "      <td>5</td>\n",
              "      <td>NaN</td>\n",
              "      <td>10</td>\n",
              "      <td>1.0</td>\n",
              "      <td>5.0</td>\n",
              "      <td>NaN</td>\n",
              "      <td>NaN</td>\n",
              "      <td>NaN</td>\n",
              "      <td>NaN</td>\n",
              "      <td>2</td>\n",
              "      <td>5.0</td>\n",
              "      <td>1.0</td>\n",
              "      <td>1</td>\n",
              "      <td>NaN</td>\n",
              "      <td>NaN</td>\n",
              "      <td>NaN</td>\n",
              "      <td>1.0</td>\n",
              "      <td>...</td>\n",
              "      <td>NaN</td>\n",
              "      <td>2</td>\n",
              "      <td>0</td>\n",
              "      <td>0</td>\n",
              "      <td>0</td>\n",
              "      <td>0</td>\n",
              "      <td>0</td>\n",
              "      <td>0</td>\n",
              "      <td>0</td>\n",
              "      <td>0</td>\n",
              "      <td>0</td>\n",
              "      <td>0</td>\n",
              "      <td>0</td>\n",
              "      <td>0</td>\n",
              "      <td>0</td>\n",
              "      <td>0</td>\n",
              "      <td>0</td>\n",
              "      <td>1</td>\n",
              "      <td>1</td>\n",
              "      <td>2</td>\n",
              "      <td>7</td>\n",
              "      <td>0</td>\n",
              "      <td>0</td>\n",
              "      <td>0</td>\n",
              "      <td>0</td>\n",
              "      <td>156</td>\n",
              "      <td>9</td>\n",
              "      <td>2</td>\n",
              "      <td>0</td>\n",
              "      <td>0</td>\n",
              "      <td>0</td>\n",
              "      <td>3247.916977</td>\n",
              "      <td>5123.759559</td>\n",
              "      <td>5556.717241</td>\n",
              "      <td>2</td>\n",
              "      <td>18</td>\n",
              "      <td>1234</td>\n",
              "      <td>1222</td>\n",
              "      <td>18:26:36</td>\n",
              "      <td>110.492667</td>\n",
              "    </tr>\n",
              "  </tbody>\n",
              "</table>\n",
              "<p>1 rows × 3087 columns</p>\n",
              "</div>"
            ],
            "text/plain": [
              "   caseid  rscrinf  rdormres  ...  cmlstyr  screentime   intvlngth\n",
              "0    2298        1         5  ...     1222    18:26:36  110.492667\n",
              "\n",
              "[1 rows x 3087 columns]"
            ]
          },
          "metadata": {},
          "execution_count": 35
        }
      ]
    },
    {
      "cell_type": "markdown",
      "metadata": {
        "id": "OcUHPmfHv7oC"
      },
      "source": [
        "And we can get the corresponding rows from `preg` like this:"
      ]
    },
    {
      "cell_type": "code",
      "metadata": {
        "id": "gi7f6FEOv7oH",
        "outputId": "19c1bf7c-c1f9-4dbc-b37f-29d39470f8f2",
        "colab": {
          "base_uri": "https://localhost:8080/",
          "height": 222
        }
      },
      "source": [
        "preg[preg.caseid==2298]"
      ],
      "execution_count": 36,
      "outputs": [
        {
          "output_type": "execute_result",
          "data": {
            "text/html": [
              "<div>\n",
              "<style scoped>\n",
              "    .dataframe tbody tr th:only-of-type {\n",
              "        vertical-align: middle;\n",
              "    }\n",
              "\n",
              "    .dataframe tbody tr th {\n",
              "        vertical-align: top;\n",
              "    }\n",
              "\n",
              "    .dataframe thead th {\n",
              "        text-align: right;\n",
              "    }\n",
              "</style>\n",
              "<table border=\"1\" class=\"dataframe\">\n",
              "  <thead>\n",
              "    <tr style=\"text-align: right;\">\n",
              "      <th></th>\n",
              "      <th>caseid</th>\n",
              "      <th>pregordr</th>\n",
              "      <th>howpreg_n</th>\n",
              "      <th>howpreg_p</th>\n",
              "      <th>moscurrp</th>\n",
              "      <th>nowprgdk</th>\n",
              "      <th>pregend1</th>\n",
              "      <th>pregend2</th>\n",
              "      <th>nbrnaliv</th>\n",
              "      <th>multbrth</th>\n",
              "      <th>cmotpreg</th>\n",
              "      <th>prgoutcome</th>\n",
              "      <th>cmprgend</th>\n",
              "      <th>flgdkmo1</th>\n",
              "      <th>cmprgbeg</th>\n",
              "      <th>ageatend</th>\n",
              "      <th>hpageend</th>\n",
              "      <th>gestasun_m</th>\n",
              "      <th>gestasun_w</th>\n",
              "      <th>wksgest</th>\n",
              "      <th>mosgest</th>\n",
              "      <th>dk1gest</th>\n",
              "      <th>dk2gest</th>\n",
              "      <th>dk3gest</th>\n",
              "      <th>bpa_bdscheck1</th>\n",
              "      <th>bpa_bdscheck2</th>\n",
              "      <th>bpa_bdscheck3</th>\n",
              "      <th>babysex</th>\n",
              "      <th>birthwgt_lb</th>\n",
              "      <th>birthwgt_oz</th>\n",
              "      <th>lobthwgt</th>\n",
              "      <th>babysex2</th>\n",
              "      <th>birthwgt_lb2</th>\n",
              "      <th>birthwgt_oz2</th>\n",
              "      <th>lobthwgt2</th>\n",
              "      <th>babysex3</th>\n",
              "      <th>birthwgt_lb3</th>\n",
              "      <th>birthwgt_oz3</th>\n",
              "      <th>lobthwgt3</th>\n",
              "      <th>cmbabdob</th>\n",
              "      <th>...</th>\n",
              "      <th>agecon_i</th>\n",
              "      <th>fmarout5_i</th>\n",
              "      <th>pmarpreg_i</th>\n",
              "      <th>rmarout6_i</th>\n",
              "      <th>fmarcon5_i</th>\n",
              "      <th>learnprg_i</th>\n",
              "      <th>pncarewk_i</th>\n",
              "      <th>paydeliv_i</th>\n",
              "      <th>lbw1_i</th>\n",
              "      <th>bfeedwks_i</th>\n",
              "      <th>maternlv_i</th>\n",
              "      <th>oldwantr_i</th>\n",
              "      <th>oldwantp_i</th>\n",
              "      <th>wantresp_i</th>\n",
              "      <th>wantpart_i</th>\n",
              "      <th>ager_i</th>\n",
              "      <th>fmarital_i</th>\n",
              "      <th>rmarital_i</th>\n",
              "      <th>educat_i</th>\n",
              "      <th>hieduc_i</th>\n",
              "      <th>race_i</th>\n",
              "      <th>hispanic_i</th>\n",
              "      <th>hisprace_i</th>\n",
              "      <th>rcurpreg_i</th>\n",
              "      <th>pregnum_i</th>\n",
              "      <th>parity_i</th>\n",
              "      <th>insuranc_i</th>\n",
              "      <th>pubassis_i</th>\n",
              "      <th>poverty_i</th>\n",
              "      <th>laborfor_i</th>\n",
              "      <th>religion_i</th>\n",
              "      <th>metro_i</th>\n",
              "      <th>basewgt</th>\n",
              "      <th>adj_mod_basewgt</th>\n",
              "      <th>finalwgt</th>\n",
              "      <th>secu_p</th>\n",
              "      <th>sest</th>\n",
              "      <th>cmintvw</th>\n",
              "      <th>totalwgt_lb</th>\n",
              "      <th>totalwgt_kg</th>\n",
              "    </tr>\n",
              "  </thead>\n",
              "  <tbody>\n",
              "    <tr>\n",
              "      <th>2610</th>\n",
              "      <td>2298</td>\n",
              "      <td>1</td>\n",
              "      <td>NaN</td>\n",
              "      <td>NaN</td>\n",
              "      <td>NaN</td>\n",
              "      <td>NaN</td>\n",
              "      <td>6.0</td>\n",
              "      <td>NaN</td>\n",
              "      <td>1.0</td>\n",
              "      <td>NaN</td>\n",
              "      <td>NaN</td>\n",
              "      <td>1.0</td>\n",
              "      <td>1119.0</td>\n",
              "      <td>NaN</td>\n",
              "      <td>1110.0</td>\n",
              "      <td>NaN</td>\n",
              "      <td>NaN</td>\n",
              "      <td>0.0</td>\n",
              "      <td>40.0</td>\n",
              "      <td>40.0</td>\n",
              "      <td>9.0</td>\n",
              "      <td>NaN</td>\n",
              "      <td>NaN</td>\n",
              "      <td>NaN</td>\n",
              "      <td>0.0</td>\n",
              "      <td>NaN</td>\n",
              "      <td>NaN</td>\n",
              "      <td>2.0</td>\n",
              "      <td>6.0</td>\n",
              "      <td>14.0</td>\n",
              "      <td>NaN</td>\n",
              "      <td>NaN</td>\n",
              "      <td>NaN</td>\n",
              "      <td>NaN</td>\n",
              "      <td>NaN</td>\n",
              "      <td>NaN</td>\n",
              "      <td>NaN</td>\n",
              "      <td>NaN</td>\n",
              "      <td>NaN</td>\n",
              "      <td>1119.0</td>\n",
              "      <td>...</td>\n",
              "      <td>0</td>\n",
              "      <td>0</td>\n",
              "      <td>0</td>\n",
              "      <td>0</td>\n",
              "      <td>0</td>\n",
              "      <td>0</td>\n",
              "      <td>0</td>\n",
              "      <td>0</td>\n",
              "      <td>0</td>\n",
              "      <td>0</td>\n",
              "      <td>0</td>\n",
              "      <td>0</td>\n",
              "      <td>0</td>\n",
              "      <td>0</td>\n",
              "      <td>0</td>\n",
              "      <td>0</td>\n",
              "      <td>0</td>\n",
              "      <td>0</td>\n",
              "      <td>0</td>\n",
              "      <td>0</td>\n",
              "      <td>0</td>\n",
              "      <td>0</td>\n",
              "      <td>0</td>\n",
              "      <td>0</td>\n",
              "      <td>0</td>\n",
              "      <td>0</td>\n",
              "      <td>0</td>\n",
              "      <td>0</td>\n",
              "      <td>0</td>\n",
              "      <td>0</td>\n",
              "      <td>0</td>\n",
              "      <td>0</td>\n",
              "      <td>3247.916977</td>\n",
              "      <td>5123.759559</td>\n",
              "      <td>5556.717241</td>\n",
              "      <td>2</td>\n",
              "      <td>18</td>\n",
              "      <td>NaN</td>\n",
              "      <td>6.8750</td>\n",
              "      <td>3.125000</td>\n",
              "    </tr>\n",
              "    <tr>\n",
              "      <th>2611</th>\n",
              "      <td>2298</td>\n",
              "      <td>2</td>\n",
              "      <td>NaN</td>\n",
              "      <td>NaN</td>\n",
              "      <td>NaN</td>\n",
              "      <td>NaN</td>\n",
              "      <td>6.0</td>\n",
              "      <td>NaN</td>\n",
              "      <td>1.0</td>\n",
              "      <td>NaN</td>\n",
              "      <td>NaN</td>\n",
              "      <td>1.0</td>\n",
              "      <td>1142.0</td>\n",
              "      <td>NaN</td>\n",
              "      <td>1134.0</td>\n",
              "      <td>NaN</td>\n",
              "      <td>NaN</td>\n",
              "      <td>0.0</td>\n",
              "      <td>36.0</td>\n",
              "      <td>36.0</td>\n",
              "      <td>8.0</td>\n",
              "      <td>NaN</td>\n",
              "      <td>NaN</td>\n",
              "      <td>NaN</td>\n",
              "      <td>0.0</td>\n",
              "      <td>NaN</td>\n",
              "      <td>NaN</td>\n",
              "      <td>1.0</td>\n",
              "      <td>5.0</td>\n",
              "      <td>8.0</td>\n",
              "      <td>NaN</td>\n",
              "      <td>NaN</td>\n",
              "      <td>NaN</td>\n",
              "      <td>NaN</td>\n",
              "      <td>NaN</td>\n",
              "      <td>NaN</td>\n",
              "      <td>NaN</td>\n",
              "      <td>NaN</td>\n",
              "      <td>NaN</td>\n",
              "      <td>1142.0</td>\n",
              "      <td>...</td>\n",
              "      <td>0</td>\n",
              "      <td>0</td>\n",
              "      <td>0</td>\n",
              "      <td>0</td>\n",
              "      <td>0</td>\n",
              "      <td>0</td>\n",
              "      <td>0</td>\n",
              "      <td>0</td>\n",
              "      <td>0</td>\n",
              "      <td>0</td>\n",
              "      <td>0</td>\n",
              "      <td>0</td>\n",
              "      <td>0</td>\n",
              "      <td>0</td>\n",
              "      <td>0</td>\n",
              "      <td>0</td>\n",
              "      <td>0</td>\n",
              "      <td>0</td>\n",
              "      <td>0</td>\n",
              "      <td>0</td>\n",
              "      <td>0</td>\n",
              "      <td>0</td>\n",
              "      <td>0</td>\n",
              "      <td>0</td>\n",
              "      <td>0</td>\n",
              "      <td>0</td>\n",
              "      <td>0</td>\n",
              "      <td>0</td>\n",
              "      <td>0</td>\n",
              "      <td>0</td>\n",
              "      <td>0</td>\n",
              "      <td>0</td>\n",
              "      <td>3247.916977</td>\n",
              "      <td>5123.759559</td>\n",
              "      <td>5556.717241</td>\n",
              "      <td>2</td>\n",
              "      <td>18</td>\n",
              "      <td>NaN</td>\n",
              "      <td>5.5000</td>\n",
              "      <td>2.500000</td>\n",
              "    </tr>\n",
              "    <tr>\n",
              "      <th>2612</th>\n",
              "      <td>2298</td>\n",
              "      <td>3</td>\n",
              "      <td>NaN</td>\n",
              "      <td>NaN</td>\n",
              "      <td>NaN</td>\n",
              "      <td>NaN</td>\n",
              "      <td>6.0</td>\n",
              "      <td>NaN</td>\n",
              "      <td>1.0</td>\n",
              "      <td>NaN</td>\n",
              "      <td>NaN</td>\n",
              "      <td>1.0</td>\n",
              "      <td>1159.0</td>\n",
              "      <td>NaN</td>\n",
              "      <td>1152.0</td>\n",
              "      <td>NaN</td>\n",
              "      <td>NaN</td>\n",
              "      <td>0.0</td>\n",
              "      <td>30.0</td>\n",
              "      <td>30.0</td>\n",
              "      <td>7.0</td>\n",
              "      <td>NaN</td>\n",
              "      <td>NaN</td>\n",
              "      <td>NaN</td>\n",
              "      <td>0.0</td>\n",
              "      <td>NaN</td>\n",
              "      <td>NaN</td>\n",
              "      <td>2.0</td>\n",
              "      <td>4.0</td>\n",
              "      <td>3.0</td>\n",
              "      <td>NaN</td>\n",
              "      <td>NaN</td>\n",
              "      <td>NaN</td>\n",
              "      <td>NaN</td>\n",
              "      <td>NaN</td>\n",
              "      <td>NaN</td>\n",
              "      <td>NaN</td>\n",
              "      <td>NaN</td>\n",
              "      <td>NaN</td>\n",
              "      <td>1159.0</td>\n",
              "      <td>...</td>\n",
              "      <td>0</td>\n",
              "      <td>0</td>\n",
              "      <td>0</td>\n",
              "      <td>0</td>\n",
              "      <td>0</td>\n",
              "      <td>0</td>\n",
              "      <td>0</td>\n",
              "      <td>0</td>\n",
              "      <td>0</td>\n",
              "      <td>0</td>\n",
              "      <td>0</td>\n",
              "      <td>0</td>\n",
              "      <td>0</td>\n",
              "      <td>0</td>\n",
              "      <td>0</td>\n",
              "      <td>0</td>\n",
              "      <td>0</td>\n",
              "      <td>0</td>\n",
              "      <td>0</td>\n",
              "      <td>0</td>\n",
              "      <td>0</td>\n",
              "      <td>0</td>\n",
              "      <td>0</td>\n",
              "      <td>0</td>\n",
              "      <td>0</td>\n",
              "      <td>0</td>\n",
              "      <td>0</td>\n",
              "      <td>0</td>\n",
              "      <td>0</td>\n",
              "      <td>0</td>\n",
              "      <td>0</td>\n",
              "      <td>0</td>\n",
              "      <td>3247.916977</td>\n",
              "      <td>5123.759559</td>\n",
              "      <td>5556.717241</td>\n",
              "      <td>2</td>\n",
              "      <td>18</td>\n",
              "      <td>NaN</td>\n",
              "      <td>4.1875</td>\n",
              "      <td>1.903409</td>\n",
              "    </tr>\n",
              "    <tr>\n",
              "      <th>2613</th>\n",
              "      <td>2298</td>\n",
              "      <td>4</td>\n",
              "      <td>NaN</td>\n",
              "      <td>NaN</td>\n",
              "      <td>NaN</td>\n",
              "      <td>NaN</td>\n",
              "      <td>6.0</td>\n",
              "      <td>NaN</td>\n",
              "      <td>1.0</td>\n",
              "      <td>NaN</td>\n",
              "      <td>NaN</td>\n",
              "      <td>1.0</td>\n",
              "      <td>1198.0</td>\n",
              "      <td>NaN</td>\n",
              "      <td>1189.0</td>\n",
              "      <td>NaN</td>\n",
              "      <td>NaN</td>\n",
              "      <td>0.0</td>\n",
              "      <td>40.0</td>\n",
              "      <td>40.0</td>\n",
              "      <td>9.0</td>\n",
              "      <td>NaN</td>\n",
              "      <td>NaN</td>\n",
              "      <td>NaN</td>\n",
              "      <td>0.0</td>\n",
              "      <td>NaN</td>\n",
              "      <td>NaN</td>\n",
              "      <td>1.0</td>\n",
              "      <td>6.0</td>\n",
              "      <td>14.0</td>\n",
              "      <td>NaN</td>\n",
              "      <td>NaN</td>\n",
              "      <td>NaN</td>\n",
              "      <td>NaN</td>\n",
              "      <td>NaN</td>\n",
              "      <td>NaN</td>\n",
              "      <td>NaN</td>\n",
              "      <td>NaN</td>\n",
              "      <td>NaN</td>\n",
              "      <td>1198.0</td>\n",
              "      <td>...</td>\n",
              "      <td>0</td>\n",
              "      <td>0</td>\n",
              "      <td>0</td>\n",
              "      <td>0</td>\n",
              "      <td>0</td>\n",
              "      <td>0</td>\n",
              "      <td>0</td>\n",
              "      <td>0</td>\n",
              "      <td>0</td>\n",
              "      <td>0</td>\n",
              "      <td>0</td>\n",
              "      <td>0</td>\n",
              "      <td>0</td>\n",
              "      <td>0</td>\n",
              "      <td>0</td>\n",
              "      <td>0</td>\n",
              "      <td>0</td>\n",
              "      <td>0</td>\n",
              "      <td>0</td>\n",
              "      <td>0</td>\n",
              "      <td>0</td>\n",
              "      <td>0</td>\n",
              "      <td>0</td>\n",
              "      <td>0</td>\n",
              "      <td>0</td>\n",
              "      <td>0</td>\n",
              "      <td>0</td>\n",
              "      <td>0</td>\n",
              "      <td>0</td>\n",
              "      <td>0</td>\n",
              "      <td>0</td>\n",
              "      <td>0</td>\n",
              "      <td>3247.916977</td>\n",
              "      <td>5123.759559</td>\n",
              "      <td>5556.717241</td>\n",
              "      <td>2</td>\n",
              "      <td>18</td>\n",
              "      <td>NaN</td>\n",
              "      <td>6.8750</td>\n",
              "      <td>3.125000</td>\n",
              "    </tr>\n",
              "  </tbody>\n",
              "</table>\n",
              "<p>4 rows × 245 columns</p>\n",
              "</div>"
            ],
            "text/plain": [
              "      caseid  pregordr  howpreg_n  ...  cmintvw  totalwgt_lb  totalwgt_kg\n",
              "2610    2298         1        NaN  ...      NaN       6.8750     3.125000\n",
              "2611    2298         2        NaN  ...      NaN       5.5000     2.500000\n",
              "2612    2298         3        NaN  ...      NaN       4.1875     1.903409\n",
              "2613    2298         4        NaN  ...      NaN       6.8750     3.125000\n",
              "\n",
              "[4 rows x 245 columns]"
            ]
          },
          "metadata": {},
          "execution_count": 36
        }
      ]
    },
    {
      "cell_type": "markdown",
      "metadata": {
        "id": "SoQhoaH2v7oK"
      },
      "source": [
        "How old is the respondent with `caseid` 1?"
      ]
    },
    {
      "cell_type": "code",
      "metadata": {
        "id": "nQ9e0MaEv7oO",
        "outputId": "8d17c389-328f-4129-8917-43a759862abb",
        "colab": {
          "base_uri": "https://localhost:8080/",
          "height": 129
        }
      },
      "source": [
        "# Solution goes here\n",
        "resp[resp.caseid==1]"
      ],
      "execution_count": 37,
      "outputs": [
        {
          "output_type": "execute_result",
          "data": {
            "text/html": [
              "<div>\n",
              "<style scoped>\n",
              "    .dataframe tbody tr th:only-of-type {\n",
              "        vertical-align: middle;\n",
              "    }\n",
              "\n",
              "    .dataframe tbody tr th {\n",
              "        vertical-align: top;\n",
              "    }\n",
              "\n",
              "    .dataframe thead th {\n",
              "        text-align: right;\n",
              "    }\n",
              "</style>\n",
              "<table border=\"1\" class=\"dataframe\">\n",
              "  <thead>\n",
              "    <tr style=\"text-align: right;\">\n",
              "      <th></th>\n",
              "      <th>caseid</th>\n",
              "      <th>rscrinf</th>\n",
              "      <th>rdormres</th>\n",
              "      <th>rostscrn</th>\n",
              "      <th>rscreenhisp</th>\n",
              "      <th>rscreenrace</th>\n",
              "      <th>age_a</th>\n",
              "      <th>age_r</th>\n",
              "      <th>cmbirth</th>\n",
              "      <th>agescrn</th>\n",
              "      <th>marstat</th>\n",
              "      <th>fmarstat</th>\n",
              "      <th>fmarit</th>\n",
              "      <th>evrmarry</th>\n",
              "      <th>hisp</th>\n",
              "      <th>hispgrp</th>\n",
              "      <th>numrace</th>\n",
              "      <th>roscnt</th>\n",
              "      <th>hplocale</th>\n",
              "      <th>manrel</th>\n",
              "      <th>fl_rage</th>\n",
              "      <th>fl_rrace</th>\n",
              "      <th>fl_rhisp</th>\n",
              "      <th>goschol</th>\n",
              "      <th>vaca</th>\n",
              "      <th>higrade</th>\n",
              "      <th>compgrd</th>\n",
              "      <th>havedip</th>\n",
              "      <th>dipged</th>\n",
              "      <th>cmhsgrad</th>\n",
              "      <th>havedeg</th>\n",
              "      <th>degrees</th>\n",
              "      <th>wthparnw</th>\n",
              "      <th>onown</th>\n",
              "      <th>intact</th>\n",
              "      <th>parmarr</th>\n",
              "      <th>lvsit14f</th>\n",
              "      <th>lvsit14m</th>\n",
              "      <th>womrasdu</th>\n",
              "      <th>momdegre</th>\n",
              "      <th>...</th>\n",
              "      <th>fibroids</th>\n",
              "      <th>pidtreat</th>\n",
              "      <th>evhivtst</th>\n",
              "      <th>anyprghp_i</th>\n",
              "      <th>anymschp_i</th>\n",
              "      <th>infever_i</th>\n",
              "      <th>ovulate_i</th>\n",
              "      <th>tubes_i</th>\n",
              "      <th>infertr_i</th>\n",
              "      <th>inferth_i</th>\n",
              "      <th>advice_i</th>\n",
              "      <th>insem_i</th>\n",
              "      <th>invitro_i</th>\n",
              "      <th>endomet_i</th>\n",
              "      <th>fibroids_i</th>\n",
              "      <th>pidtreat_i</th>\n",
              "      <th>evhivtst_i</th>\n",
              "      <th>insuranc</th>\n",
              "      <th>metro</th>\n",
              "      <th>religion</th>\n",
              "      <th>laborfor</th>\n",
              "      <th>insuranc_i</th>\n",
              "      <th>metro_i</th>\n",
              "      <th>religion_i</th>\n",
              "      <th>laborfor_i</th>\n",
              "      <th>poverty</th>\n",
              "      <th>totincr</th>\n",
              "      <th>pubassis</th>\n",
              "      <th>poverty_i</th>\n",
              "      <th>totincr_i</th>\n",
              "      <th>pubassis_i</th>\n",
              "      <th>basewgt</th>\n",
              "      <th>adj_mod_basewgt</th>\n",
              "      <th>finalwgt</th>\n",
              "      <th>secu_r</th>\n",
              "      <th>sest</th>\n",
              "      <th>cmintvw</th>\n",
              "      <th>cmlstyr</th>\n",
              "      <th>screentime</th>\n",
              "      <th>intvlngth</th>\n",
              "    </tr>\n",
              "  </thead>\n",
              "  <tbody>\n",
              "    <tr>\n",
              "      <th>1069</th>\n",
              "      <td>1</td>\n",
              "      <td>1</td>\n",
              "      <td>5</td>\n",
              "      <td>4</td>\n",
              "      <td>5</td>\n",
              "      <td>5.0</td>\n",
              "      <td>44</td>\n",
              "      <td>44</td>\n",
              "      <td>695</td>\n",
              "      <td>44</td>\n",
              "      <td>1</td>\n",
              "      <td>NaN</td>\n",
              "      <td>1</td>\n",
              "      <td>1</td>\n",
              "      <td>5</td>\n",
              "      <td>NaN</td>\n",
              "      <td>1</td>\n",
              "      <td>4</td>\n",
              "      <td>1.0</td>\n",
              "      <td>1.0</td>\n",
              "      <td>0</td>\n",
              "      <td>0</td>\n",
              "      <td>0</td>\n",
              "      <td>5</td>\n",
              "      <td>NaN</td>\n",
              "      <td>16</td>\n",
              "      <td>1.0</td>\n",
              "      <td>1.0</td>\n",
              "      <td>1.0</td>\n",
              "      <td>906.0</td>\n",
              "      <td>1.0</td>\n",
              "      <td>2.0</td>\n",
              "      <td>2</td>\n",
              "      <td>1.0</td>\n",
              "      <td>1.0</td>\n",
              "      <td>1</td>\n",
              "      <td>NaN</td>\n",
              "      <td>NaN</td>\n",
              "      <td>NaN</td>\n",
              "      <td>4.0</td>\n",
              "      <td>...</td>\n",
              "      <td>NaN</td>\n",
              "      <td>2</td>\n",
              "      <td>2</td>\n",
              "      <td>0</td>\n",
              "      <td>0</td>\n",
              "      <td>0</td>\n",
              "      <td>0</td>\n",
              "      <td>0</td>\n",
              "      <td>0</td>\n",
              "      <td>0</td>\n",
              "      <td>0</td>\n",
              "      <td>0</td>\n",
              "      <td>0</td>\n",
              "      <td>0</td>\n",
              "      <td>0</td>\n",
              "      <td>0</td>\n",
              "      <td>0</td>\n",
              "      <td>2</td>\n",
              "      <td>1</td>\n",
              "      <td>2</td>\n",
              "      <td>3</td>\n",
              "      <td>0</td>\n",
              "      <td>0</td>\n",
              "      <td>0</td>\n",
              "      <td>0</td>\n",
              "      <td>469</td>\n",
              "      <td>14</td>\n",
              "      <td>2</td>\n",
              "      <td>0</td>\n",
              "      <td>0</td>\n",
              "      <td>0</td>\n",
              "      <td>3410.389399</td>\n",
              "      <td>3869.349602</td>\n",
              "      <td>6448.271112</td>\n",
              "      <td>2</td>\n",
              "      <td>9</td>\n",
              "      <td>1231</td>\n",
              "      <td>1219</td>\n",
              "      <td>19:56:43</td>\n",
              "      <td>67.563833</td>\n",
              "    </tr>\n",
              "  </tbody>\n",
              "</table>\n",
              "<p>1 rows × 3087 columns</p>\n",
              "</div>"
            ],
            "text/plain": [
              "      caseid  rscrinf  rdormres  ...  cmlstyr  screentime  intvlngth\n",
              "1069       1        1         5  ...     1219    19:56:43  67.563833\n",
              "\n",
              "[1 rows x 3087 columns]"
            ]
          },
          "metadata": {},
          "execution_count": 37
        }
      ]
    },
    {
      "cell_type": "markdown",
      "metadata": {
        "id": "iQVDRDbJv7oQ"
      },
      "source": [
        "What are the pregnancy lengths for the respondent with `caseid` 2298?"
      ]
    },
    {
      "cell_type": "code",
      "metadata": {
        "id": "kTGJa3UKv7oW",
        "outputId": "af78da8a-9ca8-4884-8286-15ffe01c7a58",
        "colab": {
          "base_uri": "https://localhost:8080/"
        }
      },
      "source": [
        "# Solution goes here\n",
        "preg[preg.caseid==2298].prglngth"
      ],
      "execution_count": 39,
      "outputs": [
        {
          "output_type": "execute_result",
          "data": {
            "text/plain": [
              "2610    40\n",
              "2611    36\n",
              "2612    30\n",
              "2613    40\n",
              "Name: prglngth, dtype: int64"
            ]
          },
          "metadata": {},
          "execution_count": 39
        }
      ]
    },
    {
      "cell_type": "markdown",
      "metadata": {
        "id": "MEw4Hximv7oZ"
      },
      "source": [
        "What was the birthweight of the first baby born to the respondent with `caseid` 5012?"
      ]
    },
    {
      "cell_type": "code",
      "metadata": {
        "id": "dcoMF9k6v7pD",
        "outputId": "f4466143-095c-4e8f-fe73-530a1815f34a",
        "colab": {
          "base_uri": "https://localhost:8080/"
        }
      },
      "source": [
        "# Solution goes here\n",
        "preg[preg.caseid==5012].totalwgt_lb"
      ],
      "execution_count": 40,
      "outputs": [
        {
          "output_type": "execute_result",
          "data": {
            "text/plain": [
              "5515    6.0\n",
              "Name: totalwgt_lb, dtype: float64"
            ]
          },
          "metadata": {},
          "execution_count": 40
        }
      ]
    },
    {
      "cell_type": "code",
      "metadata": {
        "id": "RX6S2esEv7pH"
      },
      "source": [
        ""
      ],
      "execution_count": null,
      "outputs": []
    }
  ]
}